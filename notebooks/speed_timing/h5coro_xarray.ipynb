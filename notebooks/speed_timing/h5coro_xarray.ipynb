{
 "cells": [
  {
   "cell_type": "markdown",
   "id": "0",
   "metadata": {},
   "source": [
    "# `h5coro` + `xarray`"
   ]
  },
  {
   "cell_type": "markdown",
   "id": "1",
   "metadata": {
    "tags": []
   },
   "source": [
    "## setup\n",
    "\n",
    "Must install h5coro to have it accessible as an engine.\n",
    "\n",
    "Must use pip **not** conda. conda h5coro is v0.0.6, which does not have the funcionality to be located by xarray as a backend. pip h5coro is v0.0.8, which does."
   ]
  },
  {
   "cell_type": "code",
   "execution_count": null,
   "id": "641cc544-c028-4feb-9747-0528fc0b9fb3",
   "metadata": {
    "scrolled": true
   },
   "outputs": [],
   "source": [
    "!pip install h5coro -qq"
   ]
  },
  {
   "cell_type": "code",
   "execution_count": null,
   "id": "3",
   "metadata": {
    "tags": []
   },
   "outputs": [],
   "source": [
    "import xarray as xr\n",
    "import earthaccess\n",
    "import os"
   ]
  },
  {
   "cell_type": "markdown",
   "id": "c0d56482-1eb7-443f-ad41-01f1669451a5",
   "metadata": {},
   "source": [
    "## Authenticating"
   ]
  },
  {
   "cell_type": "code",
   "execution_count": null,
   "id": "46b0c4cd-f585-42b1-bccf-c3e8509641e4",
   "metadata": {},
   "outputs": [],
   "source": [
    "s3url_atl06 = 'nsidc-cumulus-prod-protected/ATLAS/ATL06/006/2019/12/02/ATL06_20191202203649_10220511_006_01.h5'\n",
    "auth = earthaccess.login()\n",
    "creds = auth.get_s3_credentials(daac='NSIDC')"
   ]
  },
  {
   "cell_type": "markdown",
   "id": "20011e72-bae8-4150-a873-6e400a109298",
   "metadata": {},
   "source": [
    "## Cloud"
   ]
  },
  {
   "cell_type": "code",
   "execution_count": null,
   "id": "c3bebe3c-5712-484e-8267-d093c6d69f7f",
   "metadata": {},
   "outputs": [],
   "source": [
    "%%timeit -r 5\n",
    "\n",
    "ds = xr.open_dataset(s3url_atl06, engine='h5coro', group='/gt2l/land_ice_segments', credentials=creds)\n",
    "ds.h_li.load()\n",
    "ds.latitude.load()\n",
    "ds.longitude.load()\n",
    "ds.delta_time.load()"
   ]
  },
  {
   "cell_type": "code",
   "execution_count": null,
   "id": "f5055909-df26-4e93-9400-9e13d32566ba",
   "metadata": {},
   "outputs": [],
   "source": [
    "ds.nbytes / 1e6"
   ]
  },
  {
   "cell_type": "code",
   "execution_count": null,
   "id": "c8ef6c6f-21eb-453c-8120-a9636f16f780",
   "metadata": {},
   "outputs": [],
   "source": []
  },
  {
   "cell_type": "markdown",
   "id": "457e1dda-e813-43b9-bea5-10031ab4a7fc",
   "metadata": {},
   "source": [
    "## Local\n",
    "\n",
    "Need to use verion 1.0.0 of h5coro in order for the https reader to be available to the h5coro xarray engine. As of August 2025 this version is not available via pip or conda, so the source files need to be downloaded from github."
   ]
  },
  {
   "cell_type": "code",
   "execution_count": null,
   "id": "16a7040e-8589-4382-854c-9bc5701a95c8",
   "metadata": {},
   "outputs": [],
   "source": [
    "https = 'https://data.nsidc.earthdatacloud.nasa.gov/nsidc-cumulus-prod-protected/ATLAS/ATL06/006/2019/12/02/ATL06_20191202203649_10220511_006_01.h5'"
   ]
  },
  {
   "cell_type": "code",
   "execution_count": null,
   "id": "aa5b5946-362b-42a0-bdde-fc9b36c635c4",
   "metadata": {},
   "outputs": [],
   "source": [
    "%%timeit -r 5\n",
    "\n",
    "ds = xr.open_dataset(https, engine='h5coro', group='/gt2l/land_ice_segments')\n",
    "ds.h_li.load()\n",
    "ds.latitude.load()\n",
    "ds.longitude.load()\n",
    "ds.delta_time.load()"
   ]
  },
  {
   "cell_type": "code",
   "execution_count": null,
   "id": "6c9a0a3f-e604-4cda-9e42-ff8f8ebbb63d",
   "metadata": {},
   "outputs": [],
   "source": []
  }
 ],
 "metadata": {
  "kernelspec": {
   "display_name": "Python 3 (ipykernel)",
   "language": "python",
   "name": "python3"
  },
  "language_info": {
   "codemirror_mode": {
    "name": "ipython",
    "version": 3
   },
   "file_extension": ".py",
   "mimetype": "text/x-python",
   "name": "python",
   "nbconvert_exporter": "python",
   "pygments_lexer": "ipython3",
   "version": "3.11.11"
  }
 },
 "nbformat": 4,
 "nbformat_minor": 5
}
