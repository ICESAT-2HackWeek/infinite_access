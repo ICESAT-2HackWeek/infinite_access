{
 "cells": [
  {
   "cell_type": "markdown",
   "id": "f9036cea-37c5-408e-8eb3-42b42333350b",
   "metadata": {},
   "source": [
    "# `h5py` (direct, without xarray)"
   ]
  },
  {
   "cell_type": "code",
   "execution_count": null,
   "id": "d97bc28a-c891-4682-a56c-977dcb73bb1d",
   "metadata": {},
   "outputs": [],
   "source": [
    "import h5py\n",
    "import fsspec\n",
    "import earthaccess"
   ]
  },
  {
   "cell_type": "code",
   "execution_count": null,
   "id": "e60b1d81-d2de-4483-81e0-a8b7b1c03174",
   "metadata": {},
   "outputs": [],
   "source": [
    "fsspec_kwargs = {\n",
    "    \"cache_type\": \"blockcache\", \n",
    "    \"block_size\": 8*1024*1024\n",
    "}\n",
    "\n",
    "h5py_kwargs = {\n",
    "    # \"page_buf_size\": 16*1024*1024,\n",
    "    \"rdcc_nbytes\": 4*1024*1024\n",
    "}"
   ]
  },
  {
   "cell_type": "markdown",
   "id": "366e96c7-7c60-4312-800b-c988ff9415a2",
   "metadata": {},
   "source": [
    "## Cloud"
   ]
  },
  {
   "cell_type": "code",
   "execution_count": null,
   "id": "0c90c100-d0d8-4404-bc6c-87f59759e6d9",
   "metadata": {},
   "outputs": [],
   "source": [
    "# ISSUE REQUEST -- if you haven't run earthaccess.login() beforehand you\n",
    "# will get an obtuse error\n",
    "s3 = earthaccess.get_s3fs_session(daac=\"NSIDC\")\n",
    "\n",
    "url = 's3://nsidc-cumulus-prod-protected/ATLAS/ATL06/006/2019/12/02/ATL06_20191202203649_10220511_006_01.h5'"
   ]
  },
  {
   "cell_type": "code",
   "execution_count": null,
   "id": "56afe4a6-6a30-47ac-ac2c-77f6e338e296",
   "metadata": {},
   "outputs": [],
   "source": [
    "%%timeit -r 5\n",
    "\n",
    "with s3.open(url, 'rb', **fsspec_kwargs) as fo:\n",
    "    with h5py.File(fo, **h5py_kwargs) as f:\n",
    "        data0 = f['gt2l']['land_ice_segments']['h_li'][:]\n",
    "        data1 = f['gt2l']['land_ice_segments']['latitude'][:]\n",
    "        data2 = f['gt2l']['land_ice_segments']['longitude'][:]\n",
    "        data3 = f['gt2l']['land_ice_segments']['delta_time'][:]"
   ]
  },
  {
   "cell_type": "code",
   "execution_count": null,
   "id": "e4bf7a51-6612-48e5-9588-e62ab0fc55db",
   "metadata": {},
   "outputs": [],
   "source": [
    "(data0.nbytes + data1.nbytes + data2.nbytes + data3.nbytes) / 1e6"
   ]
  },
  {
   "cell_type": "code",
   "execution_count": null,
   "id": "e52b7492-b1b3-45d0-891a-7fe1bddad623",
   "metadata": {},
   "outputs": [],
   "source": []
  },
  {
   "cell_type": "markdown",
   "id": "ce57625e-657c-462c-a7fd-31175f580900",
   "metadata": {},
   "source": [
    "## Local"
   ]
  },
  {
   "cell_type": "code",
   "execution_count": null,
   "id": "3843bbcf-d6c4-4e1b-beee-6bad941fd059",
   "metadata": {},
   "outputs": [],
   "source": [
    "fs = earthaccess.get_fsspec_https_session()\n",
    "\n",
    "https = 'https://data.nsidc.earthdatacloud.nasa.gov/nsidc-cumulus-prod-protected/ATLAS/ATL06/006/2019/12/02/ATL06_20191202203649_10220511_006_01.h5'"
   ]
  },
  {
   "cell_type": "code",
   "execution_count": null,
   "id": "607ca88d-884a-4393-8649-208d30b636b5",
   "metadata": {
    "scrolled": true
   },
   "outputs": [],
   "source": [
    "%%timeit -r 5\n",
    "\n",
    "with fs.open(https, 'rb', **fsspec_kwargs) as fo:\n",
    "    with h5py.File(fo, **h5py_kwargs) as f:\n",
    "        data0 = f['gt2l']['land_ice_segments']['h_li'][:]\n",
    "        data1 = f['gt2l']['land_ice_segments']['latitude'][:]\n",
    "        data2 = f['gt2l']['land_ice_segments']['longitude'][:]\n",
    "        data3 = f['gt2l']['land_ice_segments']['delta_time'][:]\n",
    "    # print(fo.cache)\n",
    "\n",
    "print((data0.nbytes + data1.nbytes + data2.nbytes + data3.nbytes) / 1e6, 'MB loaded')"
   ]
  },
  {
   "cell_type": "code",
   "execution_count": null,
   "id": "02e20447-736a-4bf0-ad2f-f64780a3cc02",
   "metadata": {},
   "outputs": [],
   "source": []
  }
 ],
 "metadata": {
  "kernelspec": {
   "display_name": "Python 3 (ipykernel)",
   "language": "python",
   "name": "python3"
  },
  "language_info": {
   "codemirror_mode": {
    "name": "ipython",
    "version": 3
   },
   "file_extension": ".py",
   "mimetype": "text/x-python",
   "name": "python",
   "nbconvert_exporter": "python",
   "pygments_lexer": "ipython3",
   "version": "3.11.11"
  }
 },
 "nbformat": 4,
 "nbformat_minor": 5
}
