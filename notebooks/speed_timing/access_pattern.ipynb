{
 "cells": [
  {
   "cell_type": "markdown",
   "id": "53d0fb72-b055-4bdb-b36a-ff4a30d57c1b",
   "metadata": {},
   "source": [
    "# Access Pattern"
   ]
  },
  {
   "cell_type": "markdown",
   "id": "8abd7e4e-2c95-49ff-a9d8-13527ea35543",
   "metadata": {},
   "source": [
    "## Cloud"
   ]
  },
  {
   "cell_type": "code",
   "execution_count": null,
   "id": "92d50036-86af-4665-9d26-d3e6ec6a58cb",
   "metadata": {},
   "outputs": [],
   "source": []
  },
  {
   "cell_type": "markdown",
   "id": "4ce4e7ce-2b45-4958-a618-a9b2ce582d69",
   "metadata": {},
   "source": [
    "## Local"
   ]
  },
  {
   "cell_type": "code",
   "execution_count": null,
   "id": "ae2022f6-7bf9-4a95-824e-f880e8f16ca4",
   "metadata": {},
   "outputs": [],
   "source": []
  }
 ],
 "metadata": {
  "kernelspec": {
   "display_name": "Python 3 (ipykernel)",
   "language": "python",
   "name": "python3"
  },
  "language_info": {
   "codemirror_mode": {
    "name": "ipython",
    "version": 3
   },
   "file_extension": ".py",
   "mimetype": "text/x-python",
   "name": "python",
   "nbconvert_exporter": "python",
   "pygments_lexer": "ipython3",
   "version": "3.11.11"
  }
 },
 "nbformat": 4,
 "nbformat_minor": 5
}
