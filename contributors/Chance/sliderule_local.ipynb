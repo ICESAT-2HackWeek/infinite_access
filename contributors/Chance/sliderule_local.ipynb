{
 "cells": [
  {
   "cell_type": "code",
   "execution_count": 1,
   "id": "07d16be1",
   "metadata": {},
   "outputs": [],
   "source": [
    "from sliderule import icesat2\n",
    "import earthaccess as ea\n",
    "import time\n",
    "import numpy as np\n",
    "from datetime import datetime\n",
    "import os\n",
    "from matplotlib import pyplot as plt"
   ]
  },
  {
   "cell_type": "markdown",
   "id": "7d817ec6",
   "metadata": {},
   "source": [
    "### One Granule"
   ]
  },
  {
   "cell_type": "code",
   "execution_count": 31,
   "id": "d6eb5e56",
   "metadata": {},
   "outputs": [],
   "source": [
    "def get_size(gdf):\n",
    "    return gdf.memory_usage(deep=True).sum() / (1024**2)"
   ]
  },
  {
   "cell_type": "code",
   "execution_count": null,
   "id": "91c99834",
   "metadata": {},
   "outputs": [],
   "source": [
    "granule_path = 'https://data.nsidc.earthdatacloud.nasa.gov/nsidc-cumulus-prod-protected/ATLAS/ATL06/006/2019/12/02/ATL06_20191202203649_10220511_006_01.h5'\n",
    "granule = os.path.basename(granule_path)\n",
    "\n",
    "dt = datetime.strptime(granule.split('_')[1][0:8], \"%Y%m%d\")\n",
    "dt_str = datetime.strftime(dt, \"%Y-%m-%dT%H:%M:%SZ\")\n"
   ]
  },
  {
   "cell_type": "markdown",
   "id": "64cc0a32",
   "metadata": {},
   "source": [
    "#### One granule, One beam, Subsetted"
   ]
  },
  {
   "cell_type": "code",
   "execution_count": 60,
   "id": "20f44dd2",
   "metadata": {},
   "outputs": [],
   "source": [
    "parms_bbox = {\n",
    "    \"poly\": [\n",
    "    {\n",
    "    \"lon\": 152.84367053387408,\n",
    "    \"lat\": -81.2185940279265\n",
    "    },\n",
    "    {\n",
    "    \"lon\": 157.30604049933277,\n",
    "    \"lat\": -80.7324891420691\n",
    "    },\n",
    "    {\n",
    "    \"lon\": 158.0479504202403,\n",
    "    \"lat\": -80.55684138323734\n",
    "    },\n",
    "    {\n",
    "    \"lon\": 157.09874213907918,\n",
    "    \"lat\": -80.39247953410985\n",
    "    },\n",
    "    {\n",
    "    \"lon\": 151.34894025204565,\n",
    "    \"lat\": -80.9204126913049\n",
    "    },\n",
    "    {\n",
    "    \"lon\": 152.84367053387408,\n",
    "    \"lat\": -81.2185940279265\n",
    "    }\n",
    "    ],\n",
    "    \"beams\": 'gt2l',\n",
    "    }"
   ]
  },
  {
   "cell_type": "code",
   "execution_count": null,
   "id": "fa985651",
   "metadata": {},
   "outputs": [
    {
     "name": "stdout",
     "output_type": "stream",
     "text": [
      "2.1990058422088623\n"
     ]
    },
    {
     "data": {
      "text/plain": [
       "np.float64(0.004886627197265625)"
      ]
     },
     "execution_count": 42,
     "metadata": {},
     "output_type": "execute_result"
    }
   ],
   "source": [
    "tic = time.time()\n",
    "D6 = icesat2.atl06s(parm=parms_bbox, \n",
    "  resource='ATL06_20191202203649_10220511_006_01.h5')\n",
    "toc = time.time()\n",
    "print(toc-tic)\n",
    "print(f'{get_size(D6)} MB')"
   ]
  },
  {
   "cell_type": "markdown",
   "id": "10e4e4bb",
   "metadata": {},
   "source": [
    "##### One Granule, One beam, No subsetting"
   ]
  },
  {
   "cell_type": "code",
   "execution_count": 54,
   "id": "d006c4f8",
   "metadata": {},
   "outputs": [
    {
     "name": "stdout",
     "output_type": "stream",
     "text": [
      "13.770008087158203\n",
      "9.040180206298828 MB\n"
     ]
    }
   ],
   "source": [
    "tic = time.time()\n",
    "D6 = icesat2.atl06sp(parm={\n",
    "  \"beams\": 'gt2l',\n",
    "  }, \n",
    "  resources=['ATL06_20191202203649_10220511_006_01.h5'])\n",
    "toc = time.time()\n",
    "print(toc-tic)\n",
    "print(f'{get_size(D6)} MB')"
   ]
  },
  {
   "cell_type": "markdown",
   "id": "7a54d142",
   "metadata": {},
   "source": [
    "### 9 granules"
   ]
  },
  {
   "cell_type": "code",
   "execution_count": 62,
   "id": "82513ad7",
   "metadata": {},
   "outputs": [],
   "source": [
    "# bigger bounding box (greenland) (don use these thos)\n",
    "\n",
    "parms_bbox= {\n",
    "  \"poly\" : [\n",
    "    {\"lon\": -45.4, \"lat\": 62.63},    # lower left\n",
    "    {\"lon\": -44.6, \"lat\": 62.63},    # lower right\n",
    "    {\"lon\": -44.6, \"lat\": 63.0},     # upper right\n",
    "    {\"lon\": -45.4, \"lat\": 63.0},     # upper left\n",
    "    {\"lon\": -45.4, \"lat\": 62.63}     # close polygon\n",
    "  ],\n",
    "  \"cycle\": 25,\n",
    "}"
   ]
  },
  {
   "cell_type": "markdown",
   "id": "b092b6a8",
   "metadata": {},
   "source": [
    "#### 9 Granules, Subsetted"
   ]
  },
  {
   "cell_type": "code",
   "execution_count": 59,
   "id": "678f6141",
   "metadata": {},
   "outputs": [
    {
     "name": "stdout",
     "output_type": "stream",
     "text": [
      "49.926422119140625\n",
      "100.09502792358398 MB\n"
     ]
    }
   ],
   "source": [
    "## \n",
    "\n",
    "tic = time.time()\n",
    "D6_bbox = icesat2.atl06sp(parm=parms_bbox)\n",
    "toc = time.time()\n",
    "print(toc-tic)\n",
    "print(f'{get_size(D6_bbox)} MB')"
   ]
  },
  {
   "cell_type": "markdown",
   "id": "17baa91c",
   "metadata": {},
   "source": [
    "#### 9 Granules, No subsetting"
   ]
  },
  {
   "cell_type": "code",
   "execution_count": 49,
   "id": "b4f96155",
   "metadata": {},
   "outputs": [],
   "source": [
    "results = ea.search_data(\n",
    "    short_name='ATL06',\n",
    "    cloud_hosted=True,\n",
    "    bounding_box=(-45.4, 62.63, -44.6, 63.0),   \n",
    "    granule_name=\"ATL06_*_????25??_*_*.h5\",\n",
    ")\n",
    "granules = [os.path.basename(g.data_links()[0]) for g in results]\n"
   ]
  },
  {
   "cell_type": "code",
   "execution_count": null,
   "id": "4558dad0",
   "metadata": {},
   "outputs": [
    {
     "name": "stdout",
     "output_type": "stream",
     "text": [
      "185.89279532432556\n"
     ]
    },
    {
     "data": {
      "text/plain": [
       "np.float64(363.0933837890625)"
      ]
     },
     "execution_count": 50,
     "metadata": {},
     "output_type": "execute_result"
    }
   ],
   "source": [
    "tic = time.time()\n",
    "D6 = icesat2.atl06sp(parm={}, resources=granules)\n",
    "toc = time.time()\n",
    "print(toc-tic)\n",
    "print(f'{get_size(D6)} MB')"
   ]
  },
  {
   "cell_type": "markdown",
   "id": "ede31814",
   "metadata": {},
   "source": [
    "#### 9 granules, no subsetting"
   ]
  },
  {
   "cell_type": "code",
   "execution_count": null,
   "id": "5934f005",
   "metadata": {},
   "outputs": [
    {
     "name": "stdout",
     "output_type": "stream",
     "text": [
      "3.640393018722534\n",
      "9.040180206298828 MB\n"
     ]
    }
   ],
   "source": [
    "tic = time.time()\n",
    "D6_resources_bbox = icesat2.atl06sp(parm=parms_bbox, resources=granules)\n",
    "toc = time.time()\n",
    "print(toc-tic)\n",
    "print(f'{get_size(D6_resources_bbox)} MB')"
   ]
  },
  {
   "cell_type": "code",
   "execution_count": 63,
   "id": "ef42210f",
   "metadata": {},
   "outputs": [
    {
     "name": "stdout",
     "output_type": "stream",
     "text": [
      "15.738665103912354\n",
      "5.994529724121094 MB\n"
     ]
    }
   ],
   "source": [
    "tic = time.time()\n",
    "D6_resources_bbox = icesat2.atl06sp(parm=parms_bbox)\n",
    "toc = time.time()\n",
    "print(toc-tic)\n",
    "print(f'{get_size(D6_resources_bbox)} MB')"
   ]
  },
  {
   "cell_type": "markdown",
   "id": "20cadada",
   "metadata": {},
   "source": [
    "### Results"
   ]
  },
  {
   "cell_type": "markdown",
   "id": "dc4f44d7",
   "metadata": {},
   "source": [
    "| Granules | Function | Method | Speed (s) | Size (MB) | Notes           |\n",
    "|----------|----------|---------|-----------|-----------|-----------|\n",
    "| 1 |   s  |  granule |  5.2 |  9.04  | gt2l  |\n",
    "| 1 |   s  |  bbox |  3.0 |  0.005  | gt2l    |\n",
    "| 1 |  sp  |  granule | 5.3 | 9.04  |  gt2l  |\n",
    "| 1 |  sp  |  bbox |  2.6 | 0.005  |  gt2l  |\n",
    "| 9 |   sp  |  granule |  4 m 12 s |    363.1    | cycle 25 |\n",
    "| 9 |  sp  |  bbox | 8.7  | 6.0  |  cycle 25  |\n",
    "| 9 |  sp  |  bbox | 49.3  | 100.1  |  all  |"
   ]
  },
  {
   "cell_type": "markdown",
   "id": "4dce999a",
   "metadata": {},
   "source": []
  }
 ],
 "metadata": {
  "kernelspec": {
   "display_name": "is2cb",
   "language": "python",
   "name": "python3"
  },
  "language_info": {
   "codemirror_mode": {
    "name": "ipython",
    "version": 3
   },
   "file_extension": ".py",
   "mimetype": "text/x-python",
   "name": "python",
   "nbconvert_exporter": "python",
   "pygments_lexer": "ipython3",
   "version": "3.13.5"
  }
 },
 "nbformat": 4,
 "nbformat_minor": 5
}
