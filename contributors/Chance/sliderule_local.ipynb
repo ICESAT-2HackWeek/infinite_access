{
 "cells": [
  {
   "cell_type": "code",
   "execution_count": 1,
   "id": "07d16be1",
   "metadata": {},
   "outputs": [],
   "source": [
    "from sliderule import icesat2\n",
    "import earthaccess as ea\n",
    "import time\n",
    "import numpy as np\n",
    "from datetime import datetime\n",
    "import os\n",
    "from matplotlib import pyplot as plt"
   ]
  },
  {
   "cell_type": "markdown",
   "id": "7d817ec6",
   "metadata": {},
   "source": [
    "### One Granule"
   ]
  },
  {
   "cell_type": "code",
   "execution_count": 2,
   "id": "d6eb5e56",
   "metadata": {},
   "outputs": [],
   "source": [
    "def get_size(gdf):\n",
    "    return gdf.memory_usage(deep=True).sum() / (1024**2)\n",
    "\n",
    "def print_result(test_tuple, speed, size):\n",
    "    t = test_tuple\n",
    "    g = t[0]\n",
    "    parallel= t[1]\n",
    "    method = t[2]\n",
    "    note = t[-1]\n",
    "    size = str(np.round(size, 4))\n",
    "    speed = str(np.round(speed, 2))\n",
    "    line = row.format(g, parallel, method, speed, size, note)\n",
    "    print(line)\n",
    "    return"
   ]
  },
  {
   "cell_type": "code",
   "execution_count": 3,
   "id": "91c99834",
   "metadata": {},
   "outputs": [
    {
     "name": "stdout",
     "output_type": "stream",
     "text": [
      "Granules   Function   Method     Speed (s)  Size (MB)  Notes     \n"
     ]
    }
   ],
   "source": [
    "granule_path = 'https://data.nsidc.earthdatacloud.nasa.gov/nsidc-cumulus-prod-protected/ATLAS/ATL06/006/2019/12/02/ATL06_20191202203649_10220511_006_01.h5'\n",
    "granule = os.path.basename(granule_path)\n",
    "\n",
    "dt = datetime.strptime(granule.split('_')[1][0:8], \"%Y%m%d\")\n",
    "dt_str = datetime.strftime(dt, \"%Y-%m-%dT%H:%M:%SZ\")\n",
    "\n",
    "## output formatting\n",
    "\n",
    "header = \"{:<10} {:<10} {:<10} {:<10} {:<10} {:<10}\"\n",
    "print(header.format(\"Granules\", \"Function\", \"Method\", \"Speed (s)\", \"Size (MB)\", \"Notes\"))\n",
    "row = \"{:<10} {:<10} {:<10} {:<10} {:<10} {:<10}\"\n"
   ]
  },
  {
   "cell_type": "markdown",
   "id": "64cc0a32",
   "metadata": {},
   "source": [
    "#### One granule, One beam, Subsetted"
   ]
  },
  {
   "cell_type": "code",
   "execution_count": 8,
   "id": "20f44dd2",
   "metadata": {},
   "outputs": [],
   "source": [
    "parms_bbox = {\n",
    "    \"poly\": [\n",
    "    {\n",
    "    \"lon\": 152.84367053387408,\n",
    "    \"lat\": -81.2185940279265\n",
    "    },\n",
    "    {\n",
    "    \"lon\": 157.30604049933277,\n",
    "    \"lat\": -80.7324891420691\n",
    "    },\n",
    "    {\n",
    "    \"lon\": 158.0479504202403,\n",
    "    \"lat\": -80.55684138323734\n",
    "    },\n",
    "    {\n",
    "    \"lon\": 157.09874213907918,\n",
    "    \"lat\": -80.39247953410985\n",
    "    },\n",
    "    {\n",
    "    \"lon\": 151.34894025204565,\n",
    "    \"lat\": -80.9204126913049\n",
    "    },\n",
    "    {\n",
    "    \"lon\": 152.84367053387408,\n",
    "    \"lat\": -81.2185940279265\n",
    "    }\n",
    "    ],\n",
    "    \"beams\": 'gt2l',\n",
    "    \"cycle\": 5,\n",
    "    }"
   ]
  },
  {
   "cell_type": "code",
   "execution_count": 10,
   "id": "fa985651",
   "metadata": {},
   "outputs": [
    {
     "name": "stdout",
     "output_type": "stream",
     "text": [
      "1          sp         bbox       13.43      6.0247     gt2l      \n"
     ]
    }
   ],
   "source": [
    "tic = time.time()\n",
    "D6 = icesat2.atl06sp(parm=parms_bbox)\n",
    "toc = time.time()\n",
    "test_tup = ('1', 'sp', 'bbox', 'gt2l')\n",
    "print_result(test_tuple=test_tup, speed=toc-tic, size=get_size(D6))"
   ]
  },
  {
   "cell_type": "markdown",
   "id": "10e4e4bb",
   "metadata": {},
   "source": [
    "##### One Granule, One beam, No subsetting"
   ]
  },
  {
   "cell_type": "code",
   "execution_count": 11,
   "id": "d006c4f8",
   "metadata": {},
   "outputs": [
    {
     "name": "stdout",
     "output_type": "stream",
     "text": [
      "1          sp         granule    6.36       9.0402     gt2l      \n"
     ]
    }
   ],
   "source": [
    "tic = time.time()\n",
    "D6 = icesat2.atl06sp(parm={\n",
    "  \"beams\": 'gt2l',\n",
    "  }, \n",
    "  resources=['ATL06_20191202203649_10220511_006_01.h5'])\n",
    "toc = time.time()\n",
    "test_tup = ('1', 'sp', 'granule', 'gt2l')\n",
    "print_result(test_tuple=test_tup, speed=toc-tic, size=get_size(D6))"
   ]
  },
  {
   "cell_type": "markdown",
   "id": "7a54d142",
   "metadata": {},
   "source": [
    "### 9 granules"
   ]
  },
  {
   "cell_type": "code",
   "execution_count": 119,
   "id": "82513ad7",
   "metadata": {},
   "outputs": [],
   "source": [
    "# bigger bounding box (greenland) (don use these thos)\n",
    "\n",
    "parms_bbox= {\n",
    "  \"poly\" : [\n",
    "    {\"lon\": -45.4, \"lat\": 62.63},    # lower left\n",
    "    {\"lon\": -44.6, \"lat\": 62.63},    # lower right\n",
    "    {\"lon\": -44.6, \"lat\": 63.0},     # upper right\n",
    "    {\"lon\": -45.4, \"lat\": 63.0},     # upper left\n",
    "    {\"lon\": -45.4, \"lat\": 62.63}     # close polygon\n",
    "  ],\n",
    "  \"cycle\": 25,\n",
    "}\n",
    "results = ea.search_data(\n",
    "    short_name='ATL06',\n",
    "    cloud_hosted=True,\n",
    "    bounding_box=(-45.4, 62.63, -44.6, 63.0),   \n",
    "    granule_name=\"ATL06_*_????25??_*_*.h5\",\n",
    ")\n",
    "granules = [os.path.basename(g.data_links()[0]) for g in results]\n"
   ]
  },
  {
   "cell_type": "markdown",
   "id": "b092b6a8",
   "metadata": {},
   "source": [
    "#### 9 Granules, Subsetted"
   ]
  },
  {
   "cell_type": "code",
   "execution_count": 120,
   "id": "678f6141",
   "metadata": {},
   "outputs": [
    {
     "name": "stdout",
     "output_type": "stream",
     "text": [
      "9          sp         bbox       5.75       0.0049     cycle 25  \n"
     ]
    }
   ],
   "source": [
    "## \n",
    "\n",
    "tic = time.time()\n",
    "D6_bbox = icesat2.atl06sp(parm=parms_bbox, resources=granules)\n",
    "toc = time.time()\n",
    "test_tup = ('9', 'sp', 'bbox', 'cycle 25')\n",
    "print_result(test_tuple=test_tup, speed=toc-tic, size=get_size(D6))"
   ]
  },
  {
   "cell_type": "markdown",
   "id": "17baa91c",
   "metadata": {},
   "source": [
    "#### 9 Granules, No subsetting, resources"
   ]
  },
  {
   "cell_type": "code",
   "execution_count": 121,
   "id": "4558dad0",
   "metadata": {},
   "outputs": [
    {
     "name": "stdout",
     "output_type": "stream",
     "text": [
      "9          sp         granules   203.65     363.0934   cycle 25  \n"
     ]
    }
   ],
   "source": [
    "tic = time.time()\n",
    "D6 = icesat2.atl06sp(parm={}, resources=granules)\n",
    "toc = time.time()\n",
    "test_tup = ('9', 'sp', 'granules', 'cycle 25')\n",
    "print_result(test_tuple=test_tup, speed=toc-tic, size=get_size(D6))"
   ]
  },
  {
   "cell_type": "markdown",
   "id": "ede31814",
   "metadata": {},
   "source": [
    "#### 9 granules, no subsetting"
   ]
  },
  {
   "cell_type": "code",
   "execution_count": 122,
   "id": "5934f005",
   "metadata": {},
   "outputs": [
    {
     "name": "stdout",
     "output_type": "stream",
     "text": [
      "9          sp         gran/bbox  6.04       363.0934   cycle 25  \n"
     ]
    }
   ],
   "source": [
    "tic = time.time()\n",
    "D6_resources_bbox = icesat2.atl06sp(parm=parms_bbox, resources=granules)\n",
    "toc = time.time()\n",
    "test_tup = ('9', 'sp', 'gran/bbox', 'cycle 25')\n",
    "print_result(test_tuple=test_tup, speed=toc-tic, size=get_size(D6))"
   ]
  },
  {
   "cell_type": "code",
   "execution_count": 63,
   "id": "ef42210f",
   "metadata": {},
   "outputs": [
    {
     "name": "stdout",
     "output_type": "stream",
     "text": [
      "15.738665103912354\n",
      "5.994529724121094 MB\n"
     ]
    }
   ],
   "source": [
    "tic = time.time()\n",
    "D6_resources_bbox = icesat2.atl06sp(parm=parms_bbox)\n",
    "toc = time.time()\n",
    "test_tup = ('9', 'sp', 'bbox', 'cycle 25')\n",
    "print_result(test_tuple=test_tup, speed=toc-tic, size=get_size(D6))"
   ]
  },
  {
   "cell_type": "markdown",
   "id": "20cadada",
   "metadata": {},
   "source": [
    "### Results"
   ]
  },
  {
   "cell_type": "markdown",
   "id": "dc4f44d7",
   "metadata": {},
   "source": [
    "| Granules | Function | Method | Speed (s) | Size (MB) | Notes           |\n",
    "|----------|----------|---------|-----------|-----------|-----------|\n",
    "| 1 |   s  |  granule |  5.2 |  9.04  | gt2l  |\n",
    "| 1 |   s  |  bbox |  3.0 |  0.005  | gt2l    |\n",
    "| 1 |  sp  |  granule | 5.3 | 9.04  |  gt2l  |\n",
    "| 1 |  sp  |  bbox |  2.6 | 0.005  |  gt2l  |\n",
    "| 9 |   sp  |  granule |  4 m 12 s |    363.1    | cycle 25 |\n",
    "| 9 |  sp  |  bbox | 8.7  | 6.0  |  cycle 25  |\n",
    "| 9 |  sp  |  bbox | 49.3  | 100.1  |  all  |"
   ]
  },
  {
   "cell_type": "markdown",
   "id": "54347e12",
   "metadata": {},
   "source": []
  }
 ],
 "metadata": {
  "kernelspec": {
   "display_name": "is2cb",
   "language": "python",
   "name": "python3"
  },
  "language_info": {
   "codemirror_mode": {
    "name": "ipython",
    "version": 3
   },
   "file_extension": ".py",
   "mimetype": "text/x-python",
   "name": "python",
   "nbconvert_exporter": "python",
   "pygments_lexer": "ipython3",
   "version": "3.13.5"
  }
 },
 "nbformat": 4,
 "nbformat_minor": 5
}
