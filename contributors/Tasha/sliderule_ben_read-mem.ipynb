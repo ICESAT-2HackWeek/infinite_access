{
 "cells": [
  {
   "cell_type": "markdown",
   "id": "97eafc0e-cca8-4e1a-8711-cc7e8954ca01",
   "metadata": {},
   "source": [
    "# Times for data access via sliderule with save to geoparquet and reopen vs. stream to memory\n",
    "\\\n",
    "On CryoCloud:\n",
    "Looks like these are highly variable and either one can be a second faster than the other in timeit"
   ]
  },
  {
   "cell_type": "code",
   "execution_count": 23,
   "id": "4d1b6c88-cb7b-4ab7-9260-3bd22d9c43e0",
   "metadata": {},
   "outputs": [],
   "source": [
    "import numpy as np\n",
    "from sliderule import icesat2\n",
    "import sliderule\n",
    "import pyproj\n",
    "import geopandas as gpd\n",
    "sliderule.set_verbose(False)\n",
    "import tempfile\n",
    "import os"
   ]
  },
  {
   "cell_type": "code",
   "execution_count": 20,
   "id": "3e37ae62-3831-48fd-aca2-406616e67f77",
   "metadata": {},
   "outputs": [
    {
     "name": "stdout",
     "output_type": "stream",
     "text": [
      "5.74 s ± 2.74 s per loop (mean ± std. dev. of 7 runs, 1 loop each)\n"
     ]
    }
   ],
   "source": [
    "%%timeit\n",
    "xy0 = [0., -3.0e6]\n",
    "crs=3413\n",
    "W=4.e4\n",
    "pad=np.array([-W/2, W/2])\n",
    "bbox = [xy0[0] + pad[[0, 1, 1, 0, 0]], xy0[1] + pad[[0, 0, 1, 1, 0]]]\n",
    "# generate a clipping polygon in a lat/lon coordinate system\n",
    "bbox_ll = pyproj.Transformer.from_crs(pyproj.CRS(crs), \n",
    "                                      pyproj.CRS(4326))\\\n",
    "                    .transform(*bbox)\n",
    "poly = [{\"lat\":lat, \"lon\":lon} for lat, lon in zip(*bbox_ll)]\n",
    "\n",
    "with tempfile.TemporaryDirectory() as tmpdir:\n",
    "    save_file = f'{tmpdir}/ATL06_E{int(xy0[0]/1.e3)}_N{int(xy0[1]/1.e3)}.parquet'\n",
    "    icesat2.atl06sp(\n",
    "       {\n",
    "        \"poly\": poly,\n",
    "        \"t0\":\"2023-09-13T00:00:00Z\",\n",
    "        \"t1\":\"2023-12-13T00:00:00Z\", \n",
    "       \n",
    "        \"output\": {\n",
    "          \"format\": \"parquet\",\n",
    "          \"as_geo\": True,\n",
    "          \"path\": save_file,\n",
    "          \"with_checksum\": False,\n",
    "        }})\n",
    "    df=gpd.read_parquet(save_file).to_crs(3413)"
   ]
  },
  {
   "cell_type": "code",
   "execution_count": 22,
   "id": "8f631ad9-72ae-4783-bcb9-dd2d949bbeff",
   "metadata": {},
   "outputs": [
    {
     "name": "stdout",
     "output_type": "stream",
     "text": [
      "5.59 s ± 1.61 s per loop (mean ± std. dev. of 7 runs, 1 loop each)\n"
     ]
    }
   ],
   "source": [
    "%%timeit\n",
    "xy0 = [0., -3.0e6]\n",
    "crs=3413\n",
    "W=4.e4\n",
    "pad=np.array([-W/2, W/2])\n",
    "bbox = [xy0[0] + pad[[0, 1, 1, 0, 0]], xy0[1] + pad[[0, 0, 1, 1, 0]]]\n",
    "# generate a clipping polygon in a lat/lon coordinate system\n",
    "bbox_ll = pyproj.Transformer.from_crs(pyproj.CRS(crs), \n",
    "                                      pyproj.CRS(4326))\\\n",
    "                    .transform(*bbox)\n",
    "poly = [{\"lat\":lat, \"lon\":lon} for lat, lon in zip(*bbox_ll)]\n",
    "\n",
    "df = icesat2.atl06sp(\n",
    "   {\n",
    "    \"poly\": poly,\n",
    "    \"t0\":\"2023-09-13T00:00:00Z\",\n",
    "    \"t1\":\"2023-12-13T00:00:00Z\", \n",
    "   })"
   ]
  }
 ],
 "metadata": {
  "kernelspec": {
   "display_name": "Python 3 (ipykernel)",
   "language": "python",
   "name": "python3"
  },
  "language_info": {
   "codemirror_mode": {
    "name": "ipython",
    "version": 3
   },
   "file_extension": ".py",
   "mimetype": "text/x-python",
   "name": "python",
   "nbconvert_exporter": "python",
   "pygments_lexer": "ipython3",
   "version": "3.11.11"
  }
 },
 "nbformat": 4,
 "nbformat_minor": 5
}
