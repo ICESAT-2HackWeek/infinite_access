{
 "cells": [
  {
   "cell_type": "code",
   "execution_count": 17,
   "id": "7a726854-4f16-465b-bb24-6b692a6f7d21",
   "metadata": {},
   "outputs": [],
   "source": [
    "import earthaccess\n",
    "import xarray as xr\n",
    "import time\n",
    "from functools import wraps\n",
    "\n",
    "# Authenticate for accessing NASA data\n",
    "auth = earthaccess.login(strategy=\".netrc\")\n",
    "\n",
    "# Timing wrapper\n",
    "def timethis(func):\n",
    "    \"\"\" \n",
    "    Print the execution time for a function call.\n",
    "    \"\"\"\n",
    "    @wraps(func)\n",
    "    def wrapped_method(*args, **kwargs):\n",
    "        time_start = time.time()\n",
    "        output = func(*args, **kwargs)\n",
    "        time_end = time.time()\n",
    "        print(f\"{func.__name__}: {(time_end-time_start)*1000} ms\")\n",
    "\n",
    "        return output\n",
    "\n",
    "    return wrapped_method"
   ]
  },
  {
   "cell_type": "code",
   "execution_count": 18,
   "id": "b9699bd7",
   "metadata": {},
   "outputs": [],
   "source": [
    "# Time function to query and open data\n",
    "@timethis\n",
    "def open_data(short_name, granule_name, group):\n",
    "    \"\"\"Opens ICESat-2 data of given ATL name, granuel name, and group.\n",
    "\n",
    "    Parameters\n",
    "    ----------\n",
    "    short_name : str\n",
    "        String in form ATLXX, where XX is the product number\n",
    "    granule_name : string\n",
    "        Name of granule\n",
    "    group : _type_\n",
    "        Group to open with xarray\n",
    "\n",
    "    Returns\n",
    "    -------\n",
    "    data: xarray.Dataset\n",
    "        Dataset containing the data from the group\n",
    "    \"\"\"\n",
    "    results = earthaccess.search_data(\n",
    "        short_name=short_name,\n",
    "        granule_name=granule_name,\n",
    "    )\n",
    "    opened = earthaccess.open(results)\n",
    "    data = xr.open_dataset(opened[0],group=group)\n",
    "    return data\n"
   ]
  },
  {
   "cell_type": "code",
   "execution_count": null,
   "id": "e03606f9-d108-4fc5-9374-ab16b8f4548d",
   "metadata": {},
   "outputs": [
    {
     "name": "stderr",
     "output_type": "stream",
     "text": [
      "QUEUEING TASKS | : 100%|██████████| 1/1 [00:00<00:00, 280.01it/s]\n",
      "PROCESSING TASKS | : 100%|██████████| 1/1 [00:00<00:00,  1.59it/s]\n",
      "COLLECTING RESULTS | : 100%|██████████| 1/1 [00:00<00:00, 14266.34it/s]\n"
     ]
    }
   ],
   "source": [
    "# Open antarctica_ice_velocity_450m_v2.nc into memory\n",
    "data = open_data(\n",
    "    short_name=\"ATL06\",\n",
    "    granule_name='ATL06_20191202203649_10220511_006_01.h5',\n",
    "    group='/gt1l/land_ice_segments'\n",
    ")"
   ]
  }
 ],
 "metadata": {
  "kernelspec": {
   "display_name": "default",
   "language": "python",
   "name": "python3"
  },
  "language_info": {
   "codemirror_mode": {
    "name": "ipython",
    "version": 3
   },
   "file_extension": ".py",
   "mimetype": "text/x-python",
   "name": "python",
   "nbconvert_exporter": "python",
   "pygments_lexer": "ipython3",
   "version": "3.12.11"
  }
 },
 "nbformat": 4,
 "nbformat_minor": 5
}
