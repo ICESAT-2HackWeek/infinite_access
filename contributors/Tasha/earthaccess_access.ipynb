{
 "cells": [
  {
   "cell_type": "code",
   "execution_count": null,
   "id": "7a726854-4f16-465b-bb24-6b692a6f7d21",
   "metadata": {},
   "outputs": [],
   "source": [
    "import earthaccess"
   ]
  },
  {
   "cell_type": "code",
   "execution_count": null,
   "id": "55f57f62-cd44-40eb-accc-8e841916b762",
   "metadata": {},
   "outputs": [],
   "source": [
    "poly= [\n",
    "      {\n",
    "        \"lon\": 152.75574911647576,\n",
    "        \"lat\": -81.21829026763271\n",
    "      },\n",
    "      {\n",
    "        \"lon\": 157.3571761682183,\n",
    "        \"lat\": -80.71048087173712\n",
    "      },\n",
    "      {\n",
    "        \"lon\": 158.02766982432937,\n",
    "        \"lat\": -80.55426349923613\n",
    "      },\n",
    "      {\n",
    "        \"lon\": 157.09423747954733,\n",
    "        \"lat\": -80.39105506808406\n",
    "      },\n",
    "      {\n",
    "        \"lon\": 151.36217406651946,\n",
    "        \"lat\": -80.92240258329097\n",
    "      },\n",
    "      {\n",
    "        \"lon\": 152.75574911647576,\n",
    "        \"lat\": -81.21829026763271\n",
    "      }\n",
    "    ]"
   ]
  },
  {
   "cell_type": "code",
   "execution_count": 3,
   "id": "8638e063-8f99-4fbd-958d-0c11eb2c6e6c",
   "metadata": {},
   "outputs": [],
   "source": [
    "# Authenticate for accessing NASA data\n",
    "auth = earthaccess.login(strategy=\"interactive\")"
   ]
  },
  {
   "cell_type": "code",
   "execution_count": 4,
   "id": "e03606f9-d108-4fc5-9374-ab16b8f4548d",
   "metadata": {},
   "outputs": [
    {
     "data": {
      "application/vnd.jupyter.widget-view+json": {
       "model_id": "32d0d137300742bf8658a1f581a459d9",
       "version_major": 2,
       "version_minor": 0
      },
      "text/plain": [
       "QUEUEING TASKS | :   0%|          | 0/1 [00:00<?, ?it/s]"
      ]
     },
     "metadata": {},
     "output_type": "display_data"
    },
    {
     "data": {
      "application/vnd.jupyter.widget-view+json": {
       "model_id": "06c9cc4a52bb460bbf593aa3714f9372",
       "version_major": 2,
       "version_minor": 0
      },
      "text/plain": [
       "PROCESSING TASKS | :   0%|          | 0/1 [00:00<?, ?it/s]"
      ]
     },
     "metadata": {},
     "output_type": "display_data"
    },
    {
     "data": {
      "application/vnd.jupyter.widget-view+json": {
       "model_id": "c7585db7e84f412d993bb573dc09678e",
       "version_major": 2,
       "version_minor": 0
      },
      "text/plain": [
       "COLLECTING RESULTS | :   0%|          | 0/1 [00:00<?, ?it/s]"
      ]
     },
     "metadata": {},
     "output_type": "display_data"
    }
   ],
   "source": [
    "# Open antarctica_ice_velocity_450m_v2.nc into memory\n",
    "results = earthaccess.search_data(\n",
    "    short_name=\"SWOT_L2_HR_Raster_100m_2.0\",\n",
    "    temporal=(\"2024-11-01\", \"2024-11-10\"), # \"2024-12-01\", \"2025-04-15\"\n",
    "    bounding_box=poly\n",
    "    granule_name=\"SWOT_L2_HR_Raster_100m_UTM18C_N_x_x_x_027_393_011F*.nc\",\n",
    ")\n",
    "\n",
    "opened = earthaccess.open(results)\n",
    "vel = xr.open_dataset(opened[0])"
   ]
  }
 ],
 "metadata": {
  "kernelspec": {
   "display_name": "Python 3 (ipykernel)",
   "language": "python",
   "name": "python3"
  },
  "language_info": {
   "codemirror_mode": {
    "name": "ipython",
    "version": 3
   },
   "file_extension": ".py",
   "mimetype": "text/x-python",
   "name": "python",
   "nbconvert_exporter": "python",
   "pygments_lexer": "ipython3",
   "version": "3.11.11"
  }
 },
 "nbformat": 4,
 "nbformat_minor": 5
}
