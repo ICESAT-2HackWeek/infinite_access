{
 "cells": [
  {
   "cell_type": "markdown",
   "id": "f7eda91d-adf4-4e2b-8e2c-f836d9a0bb88",
   "metadata": {},
   "source": [
    "### xarray + h5py"
   ]
  },
  {
   "cell_type": "code",
   "execution_count": 14,
   "id": "95504ee2-95ed-42d4-a19e-29b46f536afa",
   "metadata": {},
   "outputs": [],
   "source": [
    "import xarray as xr"
   ]
  },
  {
   "cell_type": "code",
   "execution_count": 16,
   "id": "226d8ab9-9117-4e88-8fc0-ae9795ea6df5",
   "metadata": {},
   "outputs": [
    {
     "name": "stdout",
     "output_type": "stream",
     "text": [
      "1.02 s ± 10.7 ms per loop (mean ± std. dev. of 5 runs, 1 loop each)\n"
     ]
    }
   ],
   "source": [
    "%%timeit -r 5\n",
    "\n",
    "with s3.open(url, 'rb', **fsspec_kwargs) as fo:\n",
    "    ds = xr.open_dataset(\n",
    "        fo, engine='h5netcdf', group='/gt2l/land_ice_segments', driver_kwds={\"rdcc_nbytes\": 1024*1024}\n",
    "    )\n",
    "    ds.h_li.load()\n",
    "    ds.latitude.load()\n",
    "    ds.longitude.load()\n",
    "    ds.delta_time.load()"
   ]
  },
  {
   "cell_type": "code",
   "execution_count": null,
   "id": "e91558d8-f35d-4170-9bbe-22c02667606a",
   "metadata": {},
   "outputs": [],
   "source": []
  },
  {
   "cell_type": "code",
   "execution_count": 18,
   "id": "ed3ef45f-a3bf-47a3-80ae-413bfe0d00e1",
   "metadata": {},
   "outputs": [
    {
     "data": {
      "text/plain": [
       "5.078205"
      ]
     },
     "execution_count": 18,
     "metadata": {},
     "output_type": "execute_result"
    }
   ],
   "source": [
    "ds.nbytes / 1e6"
   ]
  },
  {
   "cell_type": "code",
   "execution_count": null,
   "id": "1ee5359d-8585-4830-a0c6-6c675a4a13f6",
   "metadata": {},
   "outputs": [],
   "source": []
  }
 ],
 "metadata": {
  "kernelspec": {
   "display_name": "Python 3 (ipykernel)",
   "language": "python",
   "name": "python3"
  },
  "language_info": {
   "codemirror_mode": {
    "name": "ipython",
    "version": 3
   },
   "file_extension": ".py",
   "mimetype": "text/x-python",
   "name": "python",
   "nbconvert_exporter": "python",
   "pygments_lexer": "ipython3",
   "version": "3.11.11"
  }
 },
 "nbformat": 4,
 "nbformat_minor": 5
}
