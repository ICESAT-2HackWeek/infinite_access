{
 "cells": [
  {
   "cell_type": "markdown",
   "id": "f7eda91d-adf4-4e2b-8e2c-f836d9a0bb88",
   "metadata": {},
   "source": [
    "### xarray + h5py"
   ]
  },
  {
   "cell_type": "code",
   "execution_count": 14,
   "id": "95504ee2-95ed-42d4-a19e-29b46f536afa",
   "metadata": {},
   "outputs": [],
   "source": [
    "import xarray as xr\n",
    "import earthaccess"
   ]
  },
  {
   "cell_type": "code",
   "execution_count": null,
   "id": "2612a73e-8ddd-46d7-b0eb-6c013cd8bcd2",
   "metadata": {},
   "outputs": [],
   "source": []
  },
  {
   "cell_type": "markdown",
   "id": "9f4f4efb-c6ae-4751-ba2a-b416f0d198f9",
   "metadata": {},
   "source": [
    "### Cloud"
   ]
  },
  {
   "cell_type": "code",
   "execution_count": null,
   "id": "a6379b84-048b-4332-8195-965b8318c8cb",
   "metadata": {},
   "outputs": [],
   "source": [
    "s3 = earthaccess.get_s3fs_session(daac=\"NSIDC\")"
   ]
  },
  {
   "cell_type": "code",
   "execution_count": null,
   "id": "aa8e1c05-ad6b-4339-a0bd-4a444bfb1820",
   "metadata": {},
   "outputs": [],
   "source": [
    "url = 's3://nsidc-cumulus-prod-protected/ATLAS/ATL06/006/2019/12/02/ATL06_20191202203649_10220511_006_01.h5'"
   ]
  },
  {
   "cell_type": "code",
   "execution_count": 16,
   "id": "226d8ab9-9117-4e88-8fc0-ae9795ea6df5",
   "metadata": {},
   "outputs": [
    {
     "name": "stdout",
     "output_type": "stream",
     "text": [
      "1.02 s ± 10.7 ms per loop (mean ± std. dev. of 5 runs, 1 loop each)\n"
     ]
    }
   ],
   "source": [
    "%%timeit -r 5\n",
    "\n",
    "with s3.open(url, 'rb', **fsspec_kwargs) as fo:\n",
    "    ds = xr.open_dataset(\n",
    "        fo, engine='h5netcdf', group='/gt2l/land_ice_segments', driver_kwds={\"rdcc_nbytes\": 1024*1024}\n",
    "    )\n",
    "    ds.h_li.load()\n",
    "    ds.latitude.load()\n",
    "    ds.longitude.load()\n",
    "    ds.delta_time.load()"
   ]
  },
  {
   "cell_type": "code",
   "execution_count": null,
   "id": "e91558d8-f35d-4170-9bbe-22c02667606a",
   "metadata": {},
   "outputs": [],
   "source": []
  },
  {
   "cell_type": "code",
   "execution_count": 18,
   "id": "ed3ef45f-a3bf-47a3-80ae-413bfe0d00e1",
   "metadata": {},
   "outputs": [
    {
     "data": {
      "text/plain": [
       "5.078205"
      ]
     },
     "execution_count": 18,
     "metadata": {},
     "output_type": "execute_result"
    }
   ],
   "source": [
    "ds.nbytes / 1e6"
   ]
  },
  {
   "cell_type": "code",
   "execution_count": null,
   "id": "3807475a-3357-4919-8aab-8d3b69d7d886",
   "metadata": {},
   "outputs": [],
   "source": []
  },
  {
   "cell_type": "markdown",
   "id": "948ac867-840f-4417-85c8-95e24cebb8a5",
   "metadata": {},
   "source": [
    "### Local"
   ]
  },
  {
   "cell_type": "code",
   "execution_count": null,
   "id": "ad29dee4-8041-49dd-a487-7d9429a296c1",
   "metadata": {},
   "outputs": [],
   "source": [
    "fs = earthaccess.get_fsspec_https_session()\n",
    "\n",
    "https = 'https://data.nsidc.earthdatacloud.nasa.gov/nsidc-cumulus-prod-protected/ATLAS/ATL06/006/2019/12/02/ATL06_20191202203649_10220511_006_01.h5'"
   ]
  },
  {
   "cell_type": "code",
   "execution_count": null,
   "id": "1ee5359d-8585-4830-a0c6-6c675a4a13f6",
   "metadata": {},
   "outputs": [],
   "source": [
    "%%timeit -r 5\n",
    "\n",
    "with fs.open(https, 'rb', **fsspec_kwargs) as fo:\n",
    "    ds = xr.open_dataset(\n",
    "        fo, engine='h5netcdf', group='/gt2l/land_ice_segments', driver_kwds={\"rdcc_nbytes\": 1024*1024}\n",
    "    )\n",
    "    ds.h_li.load()\n",
    "    ds.latitude.load()\n",
    "    ds.longitude.load()\n",
    "    ds.delta_time.load()\n",
    "\n",
    "print(ds.nbytes / 1e6, 'MB read')"
   ]
  },
  {
   "cell_type": "code",
   "execution_count": null,
   "id": "4c272373-1233-4f59-b163-2beef7646397",
   "metadata": {},
   "outputs": [],
   "source": []
  },
  {
   "cell_type": "code",
   "execution_count": null,
   "id": "dfbed1b9-89d4-4518-ae0c-84111fdf6f80",
   "metadata": {},
   "outputs": [],
   "source": []
  }
 ],
 "metadata": {
  "kernelspec": {
   "display_name": "Python 3 (ipykernel)",
   "language": "python",
   "name": "python3"
  },
  "language_info": {
   "codemirror_mode": {
    "name": "ipython",
    "version": 3
   },
   "file_extension": ".py",
   "mimetype": "text/x-python",
   "name": "python",
   "nbconvert_exporter": "python",
   "pygments_lexer": "ipython3",
   "version": "3.11.11"
  }
 },
 "nbformat": 4,
 "nbformat_minor": 5
}
