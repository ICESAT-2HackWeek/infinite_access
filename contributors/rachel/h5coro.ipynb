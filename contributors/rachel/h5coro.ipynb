{
 "cells": [
  {
   "cell_type": "markdown",
   "id": "0",
   "metadata": {
    "user_expressions": []
   },
   "source": [
    "# Examples"
   ]
  },
  {
   "cell_type": "markdown",
   "id": "1",
   "metadata": {
    "tags": []
   },
   "source": [
    "## setup\n",
    "\n",
    "Must install h5coro to have it accessible as an engine.\n",
    "\n",
    "Must use pip **not** conda. conda h5coro is v0.0.6, which does not have the funcionality to be located by xarray as a backend. pip h5coro is v0.0.8, which does."
   ]
  },
  {
   "cell_type": "code",
   "execution_count": null,
   "id": "641cc544-c028-4feb-9747-0528fc0b9fb3",
   "metadata": {
    "scrolled": true
   },
   "outputs": [],
   "source": [
    "!pip install h5coro -qq"
   ]
  },
  {
   "cell_type": "code",
   "execution_count": 1,
   "id": "3",
   "metadata": {
    "tags": []
   },
   "outputs": [
    {
     "name": "stderr",
     "output_type": "stream",
     "text": [
      "/Users/rwegener/miniconda3/envs/sarp/lib/python3.13/site-packages/tqdm/auto.py:21: TqdmWarning: IProgress not found. Please update jupyter and ipywidgets. See https://ipywidgets.readthedocs.io/en/stable/user_install.html\n",
      "  from .autonotebook import tqdm as notebook_tqdm\n"
     ]
    }
   ],
   "source": [
    "import xarray as xr\n",
    "import earthaccess\n",
    "import os"
   ]
  },
  {
   "cell_type": "markdown",
   "id": "c0d56482-1eb7-443f-ad41-01f1669451a5",
   "metadata": {},
   "source": [
    "## Authenticating"
   ]
  },
  {
   "cell_type": "code",
   "execution_count": null,
   "id": "46b0c4cd-f585-42b1-bccf-c3e8509641e4",
   "metadata": {},
   "outputs": [],
   "source": [
    "s3url_atl06 = 'nsidc-cumulus-prod-protected/ATLAS/ATL06/006/2019/12/02/ATL06_20191202203649_10220511_006_01.h5'\n",
    "auth = earthaccess.login()\n",
    "creds = auth.get_s3_credentials(daac='NSIDC')"
   ]
  },
  {
   "cell_type": "code",
   "execution_count": null,
   "id": "12504cf1-e796-4bf3-a7ce-db6b70f0819d",
   "metadata": {},
   "outputs": [],
   "source": []
  },
  {
   "cell_type": "markdown",
   "id": "20011e72-bae8-4150-a873-6e400a109298",
   "metadata": {},
   "source": [
    "## Data Access -- Cloud"
   ]
  },
  {
   "cell_type": "code",
   "execution_count": null,
   "id": "c3bebe3c-5712-484e-8267-d093c6d69f7f",
   "metadata": {},
   "outputs": [],
   "source": [
    "%%timeit -r 5\n",
    "\n",
    "ds = xr.open_dataset(s3url_atl06, engine='h5coro', group='/gt2l/land_ice_segments', credentials=creds)\n",
    "ds.h_li.load()\n",
    "ds.latitude.load()\n",
    "ds.longitude.load()\n",
    "ds.delta_time.load()"
   ]
  },
  {
   "cell_type": "code",
   "execution_count": null,
   "id": "f5055909-df26-4e93-9400-9e13d32566ba",
   "metadata": {},
   "outputs": [],
   "source": [
    "ds.nbytes / 1e6"
   ]
  },
  {
   "cell_type": "code",
   "execution_count": null,
   "id": "c8ef6c6f-21eb-453c-8120-a9636f16f780",
   "metadata": {},
   "outputs": [],
   "source": []
  },
  {
   "cell_type": "markdown",
   "id": "457e1dda-e813-43b9-bea5-10031ab4a7fc",
   "metadata": {},
   "source": [
    "### Data Access -- Local\n",
    "\n",
    "Need to use verion 1.0.0 of h5coro in order for the https reader to be available to the h5coro xarray engine"
   ]
  },
  {
   "cell_type": "code",
   "execution_count": 2,
   "id": "16a7040e-8589-4382-854c-9bc5701a95c8",
   "metadata": {},
   "outputs": [],
   "source": [
    "https = 'https://data.nsidc.earthdatacloud.nasa.gov/nsidc-cumulus-prod-protected/ATLAS/ATL06/006/2019/12/02/ATL06_20191202203649_10220511_006_01.h5'"
   ]
  },
  {
   "cell_type": "code",
   "execution_count": 4,
   "id": "aa5b5946-362b-42a0-bdde-fc9b36c635c4",
   "metadata": {},
   "outputs": [
    {
     "name": "stderr",
     "output_type": "stream",
     "text": [
      "Exception in thread Thread-6 (resultThread):\n",
      "Traceback (most recent call last):\n",
      "  File \u001b[35m\"/Users/rwegener/miniconda3/envs/sarp/lib/python3.13/threading.py\"\u001b[0m, line \u001b[35m1041\u001b[0m, in \u001b[35m_bootstrap_inner\u001b[0m\n",
      "    \u001b[31mself.run\u001b[0m\u001b[1;31m()\u001b[0m\n",
      "    \u001b[31m~~~~~~~~\u001b[0m\u001b[1;31m^^\u001b[0m\n",
      "  File \u001b[35m\"/Users/rwegener/miniconda3/envs/sarp/lib/python3.13/site-packages/ipykernel/ipkernel.py\"\u001b[0m, line \u001b[35m766\u001b[0m, in \u001b[35mrun_closure\u001b[0m\n",
      "    \u001b[31m_threading_Thread_run\u001b[0m\u001b[1;31m(self)\u001b[0m\n",
      "    \u001b[31m~~~~~~~~~~~~~~~~~~~~~\u001b[0m\u001b[1;31m^^^^^^\u001b[0m\n",
      "  File \u001b[35m\"/Users/rwegener/miniconda3/envs/sarp/lib/python3.13/threading.py\"\u001b[0m, line \u001b[35m992\u001b[0m, in \u001b[35mrun\u001b[0m\n",
      "    \u001b[31mself._target\u001b[0m\u001b[1;31m(*self._args, **self._kwargs)\u001b[0m\n",
      "    \u001b[31m~~~~~~~~~~~~\u001b[0m\u001b[1;31m^^^^^^^^^^^^^^^^^^^^^^^^^^^^^\u001b[0m\n",
      "  File \u001b[35m\"/Users/rwegener/repos/scratch/h5coro-1.0/h5coro/h5promise.py\"\u001b[0m, line \u001b[35m48\u001b[0m, in \u001b[35mresultThread\u001b[0m\n",
      "    h5dataset = future.result()\n",
      "  File \u001b[35m\"/Users/rwegener/miniconda3/envs/sarp/lib/python3.13/concurrent/futures/_base.py\"\u001b[0m, line \u001b[35m449\u001b[0m, in \u001b[35mresult\u001b[0m\n",
      "    return \u001b[31mself.__get_result\u001b[0m\u001b[1;31m()\u001b[0m\n",
      "           \u001b[31m~~~~~~~~~~~~~~~~~\u001b[0m\u001b[1;31m^^\u001b[0m\n",
      "  File \u001b[35m\"/Users/rwegener/miniconda3/envs/sarp/lib/python3.13/concurrent/futures/_base.py\"\u001b[0m, line \u001b[35m401\u001b[0m, in \u001b[35m__get_result\u001b[0m\n",
      "    raise self._exception\n",
      "  File \u001b[35m\"/Users/rwegener/miniconda3/envs/sarp/lib/python3.13/concurrent/futures/thread.py\"\u001b[0m, line \u001b[35m59\u001b[0m, in \u001b[35mrun\u001b[0m\n",
      "    result = self.fn(*self.args, **self.kwargs)\n",
      "  File \u001b[35m\"/Users/rwegener/repos/scratch/h5coro-1.0/h5coro/h5promise.py\"\u001b[0m, line \u001b[35m41\u001b[0m, in \u001b[35mdatasetThread\u001b[0m\n",
      "    return H5Dataset(resourceObject, dataset, hyperslice, earlyExit=earlyExit, metaOnly=metaOnly, enableAttributes=enableAttributes)\n",
      "  File \u001b[35m\"/Users/rwegener/repos/scratch/h5coro-1.0/h5coro/h5dataset.py\"\u001b[0m, line \u001b[35m294\u001b[0m, in \u001b[35m__init__\u001b[0m\n",
      "    \u001b[31mself.readBTreeV1\u001b[0m\u001b[1;31m(buffer, datasetLevel)\u001b[0m\n",
      "    \u001b[31m~~~~~~~~~~~~~~~~\u001b[0m\u001b[1;31m^^^^^^^^^^^^^^^^^^^^^^\u001b[0m\n",
      "  File \u001b[35m\"/Users/rwegener/repos/scratch/h5coro-1.0/h5coro/h5dataset.py\"\u001b[0m, line \u001b[35m1999\u001b[0m, in \u001b[35mreadBTreeV1\u001b[0m\n",
      "    child_addr  = self.readField(self.resourceObject.offsetSize)\n",
      "  File \u001b[35m\"/Users/rwegener/repos/scratch/h5coro-1.0/h5coro/h5dataset.py\"\u001b[0m, line \u001b[35m327\u001b[0m, in \u001b[35mreadField\u001b[0m\n",
      "    raw = self.resourceObject.ioRequest(self.pos, size)\n",
      "  File \u001b[35m\"/Users/rwegener/repos/scratch/h5coro-1.0/h5coro/h5coro.py\"\u001b[0m, line \u001b[35m251\u001b[0m, in \u001b[35mioRequest\u001b[0m\n",
      "    self.cache[cache_line] = memoryview(\u001b[31mself.driver.read\u001b[0m\u001b[1;31m(cache_line, self.cacheLineSize)\u001b[0m)\n",
      "                                        \u001b[31m~~~~~~~~~~~~~~~~\u001b[0m\u001b[1;31m^^^^^^^^^^^^^^^^^^^^^^^^^^^^^^^^\u001b[0m\n",
      "  File \u001b[35m\"/Users/rwegener/repos/scratch/h5coro-1.0/h5coro/webdriver.py\"\u001b[0m, line \u001b[35m87\u001b[0m, in \u001b[35mread\u001b[0m\n",
      "    stream = \u001b[1;31mself.session.get\u001b[0m(self.resource, headers=headers, allow_redirects=True,\n",
      "             \u001b[1;31m^^^^^^^^^^^^^^^^\u001b[0m\n",
      "\u001b[1;35mAttributeError\u001b[0m: \u001b[35m'NoneType' object has no attribute 'get'\u001b[0m\n",
      "Exception in thread Thread-7 (resultThread):\n",
      "Traceback (most recent call last):\n",
      "  File \u001b[35m\"/Users/rwegener/miniconda3/envs/sarp/lib/python3.13/threading.py\"\u001b[0m, line \u001b[35m1041\u001b[0m, in \u001b[35m_bootstrap_inner\u001b[0m\n",
      "    \u001b[31mself.run\u001b[0m\u001b[1;31m()\u001b[0m\n",
      "    \u001b[31m~~~~~~~~\u001b[0m\u001b[1;31m^^\u001b[0m\n",
      "  File \u001b[35m\"/Users/rwegener/miniconda3/envs/sarp/lib/python3.13/site-packages/ipykernel/ipkernel.py\"\u001b[0m, line \u001b[35m766\u001b[0m, in \u001b[35mrun_closure\u001b[0m\n",
      "    \u001b[31m_threading_Thread_run\u001b[0m\u001b[1;31m(self)\u001b[0m\n",
      "    \u001b[31m~~~~~~~~~~~~~~~~~~~~~\u001b[0m\u001b[1;31m^^^^^^\u001b[0m\n",
      "  File \u001b[35m\"/Users/rwegener/miniconda3/envs/sarp/lib/python3.13/threading.py\"\u001b[0m, line \u001b[35m992\u001b[0m, in \u001b[35mrun\u001b[0m\n",
      "    \u001b[31mself._target\u001b[0m\u001b[1;31m(*self._args, **self._kwargs)\u001b[0m\n",
      "    \u001b[31m~~~~~~~~~~~~\u001b[0m\u001b[1;31m^^^^^^^^^^^^^^^^^^^^^^^^^^^^^\u001b[0m\n",
      "  File \u001b[35m\"/Users/rwegener/repos/scratch/h5coro-1.0/h5coro/h5promise.py\"\u001b[0m, line \u001b[35m48\u001b[0m, in \u001b[35mresultThread\u001b[0m\n",
      "    h5dataset = future.result()\n",
      "  File \u001b[35m\"/Users/rwegener/miniconda3/envs/sarp/lib/python3.13/concurrent/futures/_base.py\"\u001b[0m, line \u001b[35m449\u001b[0m, in \u001b[35mresult\u001b[0m\n",
      "    return \u001b[31mself.__get_result\u001b[0m\u001b[1;31m()\u001b[0m\n",
      "           \u001b[31m~~~~~~~~~~~~~~~~~\u001b[0m\u001b[1;31m^^\u001b[0m\n",
      "  File \u001b[35m\"/Users/rwegener/miniconda3/envs/sarp/lib/python3.13/concurrent/futures/_base.py\"\u001b[0m, line \u001b[35m401\u001b[0m, in \u001b[35m__get_result\u001b[0m\n",
      "    raise self._exception\n",
      "  File \u001b[35m\"/Users/rwegener/miniconda3/envs/sarp/lib/python3.13/concurrent/futures/thread.py\"\u001b[0m, line \u001b[35m59\u001b[0m, in \u001b[35mrun\u001b[0m\n",
      "    result = self.fn(*self.args, **self.kwargs)\n",
      "  File \u001b[35m\"/Users/rwegener/repos/scratch/h5coro-1.0/h5coro/h5promise.py\"\u001b[0m, line \u001b[35m41\u001b[0m, in \u001b[35mdatasetThread\u001b[0m\n",
      "    return H5Dataset(resourceObject, dataset, hyperslice, earlyExit=earlyExit, metaOnly=metaOnly, enableAttributes=enableAttributes)\n",
      "  File \u001b[35m\"/Users/rwegener/repos/scratch/h5coro-1.0/h5coro/h5dataset.py\"\u001b[0m, line \u001b[35m294\u001b[0m, in \u001b[35m__init__\u001b[0m\n",
      "    \u001b[31mself.readBTreeV1\u001b[0m\u001b[1;31m(buffer, datasetLevel)\u001b[0m\n",
      "    \u001b[31m~~~~~~~~~~~~~~~~\u001b[0m\u001b[1;31m^^^^^^^^^^^^^^^^^^^^^^\u001b[0m\n",
      "  File \u001b[35m\"/Users/rwegener/repos/scratch/h5coro-1.0/h5coro/h5dataset.py\"\u001b[0m, line \u001b[35m1999\u001b[0m, in \u001b[35mreadBTreeV1\u001b[0m\n",
      "    child_addr  = self.readField(self.resourceObject.offsetSize)\n",
      "  File \u001b[35m\"/Users/rwegener/repos/scratch/h5coro-1.0/h5coro/h5dataset.py\"\u001b[0m, line \u001b[35m327\u001b[0m, in \u001b[35mreadField\u001b[0m\n",
      "    raw = self.resourceObject.ioRequest(self.pos, size)\n",
      "  File \u001b[35m\"/Users/rwegener/repos/scratch/h5coro-1.0/h5coro/h5coro.py\"\u001b[0m, line \u001b[35m251\u001b[0m, in \u001b[35mioRequest\u001b[0m\n",
      "    self.cache[cache_line] = memoryview(\u001b[31mself.driver.read\u001b[0m\u001b[1;31m(cache_line, self.cacheLineSize)\u001b[0m)\n",
      "                                        \u001b[31m~~~~~~~~~~~~~~~~\u001b[0m\u001b[1;31m^^^^^^^^^^^^^^^^^^^^^^^^^^^^^^^^\u001b[0m\n",
      "  File \u001b[35m\"/Users/rwegener/repos/scratch/h5coro-1.0/h5coro/webdriver.py\"\u001b[0m, line \u001b[35m87\u001b[0m, in \u001b[35mread\u001b[0m\n",
      "    stream = \u001b[1;31mself.session.get\u001b[0m(self.resource, headers=headers, allow_redirects=True,\n",
      "             \u001b[1;31m^^^^^^^^^^^^^^^^\u001b[0m\n",
      "\u001b[1;35mAttributeError\u001b[0m: \u001b[35m'NoneType' object has no attribute 'get'\u001b[0m\n",
      "Exception in thread Thread-8 (resultThread):\n",
      "Traceback (most recent call last):\n",
      "  File \u001b[35m\"/Users/rwegener/miniconda3/envs/sarp/lib/python3.13/threading.py\"\u001b[0m, line \u001b[35m1041\u001b[0m, in \u001b[35m_bootstrap_inner\u001b[0m\n",
      "    \u001b[31mself.run\u001b[0m\u001b[1;31m()\u001b[0m\n",
      "    \u001b[31m~~~~~~~~\u001b[0m\u001b[1;31m^^\u001b[0m\n",
      "  File \u001b[35m\"/Users/rwegener/miniconda3/envs/sarp/lib/python3.13/site-packages/ipykernel/ipkernel.py\"\u001b[0m, line \u001b[35m766\u001b[0m, in \u001b[35mrun_closure\u001b[0m\n",
      "    \u001b[31m_threading_Thread_run\u001b[0m\u001b[1;31m(self)\u001b[0m\n",
      "    \u001b[31m~~~~~~~~~~~~~~~~~~~~~\u001b[0m\u001b[1;31m^^^^^^\u001b[0m\n",
      "  File \u001b[35m\"/Users/rwegener/miniconda3/envs/sarp/lib/python3.13/threading.py\"\u001b[0m, line \u001b[35m992\u001b[0m, in \u001b[35mrun\u001b[0m\n",
      "    \u001b[31mself._target\u001b[0m\u001b[1;31m(*self._args, **self._kwargs)\u001b[0m\n",
      "    \u001b[31m~~~~~~~~~~~~\u001b[0m\u001b[1;31m^^^^^^^^^^^^^^^^^^^^^^^^^^^^^\u001b[0m\n",
      "  File \u001b[35m\"/Users/rwegener/repos/scratch/h5coro-1.0/h5coro/h5promise.py\"\u001b[0m, line \u001b[35m48\u001b[0m, in \u001b[35mresultThread\u001b[0m\n",
      "    h5dataset = future.result()\n",
      "  File \u001b[35m\"/Users/rwegener/miniconda3/envs/sarp/lib/python3.13/concurrent/futures/_base.py\"\u001b[0m, line \u001b[35m449\u001b[0m, in \u001b[35mresult\u001b[0m\n",
      "    return \u001b[31mself.__get_result\u001b[0m\u001b[1;31m()\u001b[0m\n",
      "           \u001b[31m~~~~~~~~~~~~~~~~~\u001b[0m\u001b[1;31m^^\u001b[0m\n",
      "  File \u001b[35m\"/Users/rwegener/miniconda3/envs/sarp/lib/python3.13/concurrent/futures/_base.py\"\u001b[0m, line \u001b[35m401\u001b[0m, in \u001b[35m__get_result\u001b[0m\n",
      "    raise self._exception\n",
      "  File \u001b[35m\"/Users/rwegener/miniconda3/envs/sarp/lib/python3.13/concurrent/futures/thread.py\"\u001b[0m, line \u001b[35m59\u001b[0m, in \u001b[35mrun\u001b[0m\n",
      "    result = self.fn(*self.args, **self.kwargs)\n",
      "  File \u001b[35m\"/Users/rwegener/repos/scratch/h5coro-1.0/h5coro/h5promise.py\"\u001b[0m, line \u001b[35m41\u001b[0m, in \u001b[35mdatasetThread\u001b[0m\n",
      "    return H5Dataset(resourceObject, dataset, hyperslice, earlyExit=earlyExit, metaOnly=metaOnly, enableAttributes=enableAttributes)\n",
      "  File \u001b[35m\"/Users/rwegener/repos/scratch/h5coro-1.0/h5coro/h5dataset.py\"\u001b[0m, line \u001b[35m294\u001b[0m, in \u001b[35m__init__\u001b[0m\n",
      "    \u001b[31mself.readBTreeV1\u001b[0m\u001b[1;31m(buffer, datasetLevel)\u001b[0m\n",
      "    \u001b[31m~~~~~~~~~~~~~~~~\u001b[0m\u001b[1;31m^^^^^^^^^^^^^^^^^^^^^^\u001b[0m\n",
      "  File \u001b[35m\"/Users/rwegener/repos/scratch/h5coro-1.0/h5coro/h5dataset.py\"\u001b[0m, line \u001b[35m1999\u001b[0m, in \u001b[35mreadBTreeV1\u001b[0m\n",
      "    child_addr  = self.readField(self.resourceObject.offsetSize)\n",
      "  File \u001b[35m\"/Users/rwegener/repos/scratch/h5coro-1.0/h5coro/h5dataset.py\"\u001b[0m, line \u001b[35m327\u001b[0m, in \u001b[35mreadField\u001b[0m\n",
      "    raw = self.resourceObject.ioRequest(self.pos, size)\n",
      "  File \u001b[35m\"/Users/rwegener/repos/scratch/h5coro-1.0/h5coro/h5coro.py\"\u001b[0m, line \u001b[35m251\u001b[0m, in \u001b[35mioRequest\u001b[0m\n",
      "    self.cache[cache_line] = memoryview(\u001b[31mself.driver.read\u001b[0m\u001b[1;31m(cache_line, self.cacheLineSize)\u001b[0m)\n",
      "                                        \u001b[31m~~~~~~~~~~~~~~~~\u001b[0m\u001b[1;31m^^^^^^^^^^^^^^^^^^^^^^^^^^^^^^^^\u001b[0m\n",
      "  File \u001b[35m\"/Users/rwegener/repos/scratch/h5coro-1.0/h5coro/webdriver.py\"\u001b[0m, line \u001b[35m87\u001b[0m, in \u001b[35mread\u001b[0m\n",
      "    stream = \u001b[1;31mself.session.get\u001b[0m(self.resource, headers=headers, allow_redirects=True,\n",
      "             \u001b[1;31m^^^^^^^^^^^^^^^^\u001b[0m\n",
      "\u001b[1;35mAttributeError\u001b[0m: \u001b[35m'NoneType' object has no attribute 'get'\u001b[0m\n",
      "Exception in thread Thread-9 (resultThread):\n",
      "Traceback (most recent call last):\n",
      "  File \u001b[35m\"/Users/rwegener/miniconda3/envs/sarp/lib/python3.13/threading.py\"\u001b[0m, line \u001b[35m1041\u001b[0m, in \u001b[35m_bootstrap_inner\u001b[0m\n",
      "    \u001b[31mself.run\u001b[0m\u001b[1;31m()\u001b[0m\n",
      "    \u001b[31m~~~~~~~~\u001b[0m\u001b[1;31m^^\u001b[0m\n",
      "  File \u001b[35m\"/Users/rwegener/miniconda3/envs/sarp/lib/python3.13/site-packages/ipykernel/ipkernel.py\"\u001b[0m, line \u001b[35m766\u001b[0m, in \u001b[35mrun_closure\u001b[0m\n",
      "    \u001b[31m_threading_Thread_run\u001b[0m\u001b[1;31m(self)\u001b[0m\n",
      "    \u001b[31m~~~~~~~~~~~~~~~~~~~~~\u001b[0m\u001b[1;31m^^^^^^\u001b[0m\n",
      "  File \u001b[35m\"/Users/rwegener/miniconda3/envs/sarp/lib/python3.13/threading.py\"\u001b[0m, line \u001b[35m992\u001b[0m, in \u001b[35mrun\u001b[0m\n",
      "    \u001b[31mself._target\u001b[0m\u001b[1;31m(*self._args, **self._kwargs)\u001b[0m\n",
      "    \u001b[31m~~~~~~~~~~~~\u001b[0m\u001b[1;31m^^^^^^^^^^^^^^^^^^^^^^^^^^^^^\u001b[0m\n",
      "  File \u001b[35m\"/Users/rwegener/repos/scratch/h5coro-1.0/h5coro/h5promise.py\"\u001b[0m, line \u001b[35m48\u001b[0m, in \u001b[35mresultThread\u001b[0m\n",
      "    h5dataset = future.result()\n",
      "  File \u001b[35m\"/Users/rwegener/miniconda3/envs/sarp/lib/python3.13/concurrent/futures/_base.py\"\u001b[0m, line \u001b[35m449\u001b[0m, in \u001b[35mresult\u001b[0m\n",
      "    return \u001b[31mself.__get_result\u001b[0m\u001b[1;31m()\u001b[0m\n",
      "           \u001b[31m~~~~~~~~~~~~~~~~~\u001b[0m\u001b[1;31m^^\u001b[0m\n",
      "  File \u001b[35m\"/Users/rwegener/miniconda3/envs/sarp/lib/python3.13/concurrent/futures/_base.py\"\u001b[0m, line \u001b[35m401\u001b[0m, in \u001b[35m__get_result\u001b[0m\n",
      "    raise self._exception\n",
      "  File \u001b[35m\"/Users/rwegener/miniconda3/envs/sarp/lib/python3.13/concurrent/futures/thread.py\"\u001b[0m, line \u001b[35m59\u001b[0m, in \u001b[35mrun\u001b[0m\n",
      "    result = self.fn(*self.args, **self.kwargs)\n",
      "  File \u001b[35m\"/Users/rwegener/repos/scratch/h5coro-1.0/h5coro/h5promise.py\"\u001b[0m, line \u001b[35m41\u001b[0m, in \u001b[35mdatasetThread\u001b[0m\n",
      "    return H5Dataset(resourceObject, dataset, hyperslice, earlyExit=earlyExit, metaOnly=metaOnly, enableAttributes=enableAttributes)\n",
      "  File \u001b[35m\"/Users/rwegener/repos/scratch/h5coro-1.0/h5coro/h5dataset.py\"\u001b[0m, line \u001b[35m294\u001b[0m, in \u001b[35m__init__\u001b[0m\n",
      "    \u001b[31mself.readBTreeV1\u001b[0m\u001b[1;31m(buffer, datasetLevel)\u001b[0m\n",
      "    \u001b[31m~~~~~~~~~~~~~~~~\u001b[0m\u001b[1;31m^^^^^^^^^^^^^^^^^^^^^^\u001b[0m\n",
      "  File \u001b[35m\"/Users/rwegener/repos/scratch/h5coro-1.0/h5coro/h5dataset.py\"\u001b[0m, line \u001b[35m1999\u001b[0m, in \u001b[35mreadBTreeV1\u001b[0m\n",
      "    child_addr  = self.readField(self.resourceObject.offsetSize)\n",
      "  File \u001b[35m\"/Users/rwegener/repos/scratch/h5coro-1.0/h5coro/h5dataset.py\"\u001b[0m, line \u001b[35m327\u001b[0m, in \u001b[35mreadField\u001b[0m\n",
      "    raw = self.resourceObject.ioRequest(self.pos, size)\n",
      "  File \u001b[35m\"/Users/rwegener/repos/scratch/h5coro-1.0/h5coro/h5coro.py\"\u001b[0m, line \u001b[35m251\u001b[0m, in \u001b[35mioRequest\u001b[0m\n",
      "    self.cache[cache_line] = memoryview(\u001b[31mself.driver.read\u001b[0m\u001b[1;31m(cache_line, self.cacheLineSize)\u001b[0m)\n",
      "                                        \u001b[31m~~~~~~~~~~~~~~~~\u001b[0m\u001b[1;31m^^^^^^^^^^^^^^^^^^^^^^^^^^^^^^^^\u001b[0m\n",
      "  File \u001b[35m\"/Users/rwegener/repos/scratch/h5coro-1.0/h5coro/webdriver.py\"\u001b[0m, line \u001b[35m87\u001b[0m, in \u001b[35mread\u001b[0m\n",
      "    stream = \u001b[1;31mself.session.get\u001b[0m(self.resource, headers=headers, allow_redirects=True,\n",
      "             \u001b[1;31m^^^^^^^^^^^^^^^^\u001b[0m\n",
      "\u001b[1;35mAttributeError\u001b[0m: \u001b[35m'NoneType' object has no attribute 'get'\u001b[0m\n",
      "Exception in thread Thread-10 (resultThread):\n",
      "Traceback (most recent call last):\n",
      "  File \u001b[35m\"/Users/rwegener/miniconda3/envs/sarp/lib/python3.13/threading.py\"\u001b[0m, line \u001b[35m1041\u001b[0m, in \u001b[35m_bootstrap_inner\u001b[0m\n",
      "    \u001b[31mself.run\u001b[0m\u001b[1;31m()\u001b[0m\n",
      "    \u001b[31m~~~~~~~~\u001b[0m\u001b[1;31m^^\u001b[0m\n",
      "  File \u001b[35m\"/Users/rwegener/miniconda3/envs/sarp/lib/python3.13/site-packages/ipykernel/ipkernel.py\"\u001b[0m, line \u001b[35m766\u001b[0m, in \u001b[35mrun_closure\u001b[0m\n",
      "    \u001b[31m_threading_Thread_run\u001b[0m\u001b[1;31m(self)\u001b[0m\n",
      "    \u001b[31m~~~~~~~~~~~~~~~~~~~~~\u001b[0m\u001b[1;31m^^^^^^\u001b[0m\n",
      "  File \u001b[35m\"/Users/rwegener/miniconda3/envs/sarp/lib/python3.13/threading.py\"\u001b[0m, line \u001b[35m992\u001b[0m, in \u001b[35mrun\u001b[0m\n",
      "    \u001b[31mself._target\u001b[0m\u001b[1;31m(*self._args, **self._kwargs)\u001b[0m\n",
      "    \u001b[31m~~~~~~~~~~~~\u001b[0m\u001b[1;31m^^^^^^^^^^^^^^^^^^^^^^^^^^^^^\u001b[0m\n",
      "  File \u001b[35m\"/Users/rwegener/repos/scratch/h5coro-1.0/h5coro/h5promise.py\"\u001b[0m, line \u001b[35m48\u001b[0m, in \u001b[35mresultThread\u001b[0m\n",
      "    h5dataset = future.result()\n",
      "  File \u001b[35m\"/Users/rwegener/miniconda3/envs/sarp/lib/python3.13/concurrent/futures/_base.py\"\u001b[0m, line \u001b[35m449\u001b[0m, in \u001b[35mresult\u001b[0m\n",
      "    return \u001b[31mself.__get_result\u001b[0m\u001b[1;31m()\u001b[0m\n",
      "           \u001b[31m~~~~~~~~~~~~~~~~~\u001b[0m\u001b[1;31m^^\u001b[0m\n",
      "  File \u001b[35m\"/Users/rwegener/miniconda3/envs/sarp/lib/python3.13/concurrent/futures/_base.py\"\u001b[0m, line \u001b[35m401\u001b[0m, in \u001b[35m__get_result\u001b[0m\n",
      "    raise self._exception\n",
      "  File \u001b[35m\"/Users/rwegener/miniconda3/envs/sarp/lib/python3.13/concurrent/futures/thread.py\"\u001b[0m, line \u001b[35m59\u001b[0m, in \u001b[35mrun\u001b[0m\n",
      "    result = self.fn(*self.args, **self.kwargs)\n",
      "  File \u001b[35m\"/Users/rwegener/repos/scratch/h5coro-1.0/h5coro/h5promise.py\"\u001b[0m, line \u001b[35m41\u001b[0m, in \u001b[35mdatasetThread\u001b[0m\n",
      "    return H5Dataset(resourceObject, dataset, hyperslice, earlyExit=earlyExit, metaOnly=metaOnly, enableAttributes=enableAttributes)\n",
      "  File \u001b[35m\"/Users/rwegener/repos/scratch/h5coro-1.0/h5coro/h5dataset.py\"\u001b[0m, line \u001b[35m294\u001b[0m, in \u001b[35m__init__\u001b[0m\n",
      "    \u001b[31mself.readBTreeV1\u001b[0m\u001b[1;31m(buffer, datasetLevel)\u001b[0m\n",
      "    \u001b[31m~~~~~~~~~~~~~~~~\u001b[0m\u001b[1;31m^^^^^^^^^^^^^^^^^^^^^^\u001b[0m\n",
      "  File \u001b[35m\"/Users/rwegener/repos/scratch/h5coro-1.0/h5coro/h5dataset.py\"\u001b[0m, line \u001b[35m1999\u001b[0m, in \u001b[35mreadBTreeV1\u001b[0m\n",
      "    child_addr  = self.readField(self.resourceObject.offsetSize)\n",
      "  File \u001b[35m\"/Users/rwegener/repos/scratch/h5coro-1.0/h5coro/h5dataset.py\"\u001b[0m, line \u001b[35m327\u001b[0m, in \u001b[35mreadField\u001b[0m\n",
      "    raw = self.resourceObject.ioRequest(self.pos, size)\n",
      "  File \u001b[35m\"/Users/rwegener/repos/scratch/h5coro-1.0/h5coro/h5coro.py\"\u001b[0m, line \u001b[35m251\u001b[0m, in \u001b[35mioRequest\u001b[0m\n",
      "    self.cache[cache_line] = memoryview(\u001b[31mself.driver.read\u001b[0m\u001b[1;31m(cache_line, self.cacheLineSize)\u001b[0m)\n",
      "                                        \u001b[31m~~~~~~~~~~~~~~~~\u001b[0m\u001b[1;31m^^^^^^^^^^^^^^^^^^^^^^^^^^^^^^^^\u001b[0m\n",
      "  File \u001b[35m\"/Users/rwegener/repos/scratch/h5coro-1.0/h5coro/webdriver.py\"\u001b[0m, line \u001b[35m87\u001b[0m, in \u001b[35mread\u001b[0m\n",
      "    stream = \u001b[1;31mself.session.get\u001b[0m(self.resource, headers=headers, allow_redirects=True,\n",
      "             \u001b[1;31m^^^^^^^^^^^^^^^^\u001b[0m\n",
      "\u001b[1;35mAttributeError\u001b[0m: \u001b[35m'NoneType' object has no attribute 'get'\u001b[0m\n"
     ]
    },
    {
     "name": "stdout",
     "output_type": "stream",
     "text": [
      "15.5 s ± 3.37 s per loop (mean ± std. dev. of 5 runs, 1 loop each)\n"
     ]
    },
    {
     "name": "stderr",
     "output_type": "stream",
     "text": [
      "Exception in thread Thread-11 (resultThread):\n",
      "Traceback (most recent call last):\n",
      "  File \u001b[35m\"/Users/rwegener/miniconda3/envs/sarp/lib/python3.13/threading.py\"\u001b[0m, line \u001b[35m1041\u001b[0m, in \u001b[35m_bootstrap_inner\u001b[0m\n",
      "    \u001b[31mself.run\u001b[0m\u001b[1;31m()\u001b[0m\n",
      "    \u001b[31m~~~~~~~~\u001b[0m\u001b[1;31m^^\u001b[0m\n",
      "  File \u001b[35m\"/Users/rwegener/miniconda3/envs/sarp/lib/python3.13/site-packages/ipykernel/ipkernel.py\"\u001b[0m, line \u001b[35m766\u001b[0m, in \u001b[35mrun_closure\u001b[0m\n",
      "    \u001b[31m_threading_Thread_run\u001b[0m\u001b[1;31m(self)\u001b[0m\n",
      "    \u001b[31m~~~~~~~~~~~~~~~~~~~~~\u001b[0m\u001b[1;31m^^^^^^\u001b[0m\n",
      "  File \u001b[35m\"/Users/rwegener/miniconda3/envs/sarp/lib/python3.13/threading.py\"\u001b[0m, line \u001b[35m992\u001b[0m, in \u001b[35mrun\u001b[0m\n",
      "    \u001b[31mself._target\u001b[0m\u001b[1;31m(*self._args, **self._kwargs)\u001b[0m\n",
      "    \u001b[31m~~~~~~~~~~~~\u001b[0m\u001b[1;31m^^^^^^^^^^^^^^^^^^^^^^^^^^^^^\u001b[0m\n",
      "  File \u001b[35m\"/Users/rwegener/repos/scratch/h5coro-1.0/h5coro/h5promise.py\"\u001b[0m, line \u001b[35m48\u001b[0m, in \u001b[35mresultThread\u001b[0m\n",
      "    h5dataset = future.result()\n",
      "  File \u001b[35m\"/Users/rwegener/miniconda3/envs/sarp/lib/python3.13/concurrent/futures/_base.py\"\u001b[0m, line \u001b[35m449\u001b[0m, in \u001b[35mresult\u001b[0m\n",
      "    return \u001b[31mself.__get_result\u001b[0m\u001b[1;31m()\u001b[0m\n",
      "           \u001b[31m~~~~~~~~~~~~~~~~~\u001b[0m\u001b[1;31m^^\u001b[0m\n",
      "  File \u001b[35m\"/Users/rwegener/miniconda3/envs/sarp/lib/python3.13/concurrent/futures/_base.py\"\u001b[0m, line \u001b[35m401\u001b[0m, in \u001b[35m__get_result\u001b[0m\n",
      "    raise self._exception\n",
      "  File \u001b[35m\"/Users/rwegener/miniconda3/envs/sarp/lib/python3.13/concurrent/futures/thread.py\"\u001b[0m, line \u001b[35m59\u001b[0m, in \u001b[35mrun\u001b[0m\n",
      "    result = self.fn(*self.args, **self.kwargs)\n",
      "  File \u001b[35m\"/Users/rwegener/repos/scratch/h5coro-1.0/h5coro/h5promise.py\"\u001b[0m, line \u001b[35m41\u001b[0m, in \u001b[35mdatasetThread\u001b[0m\n",
      "    return H5Dataset(resourceObject, dataset, hyperslice, earlyExit=earlyExit, metaOnly=metaOnly, enableAttributes=enableAttributes)\n",
      "  File \u001b[35m\"/Users/rwegener/repos/scratch/h5coro-1.0/h5coro/h5dataset.py\"\u001b[0m, line \u001b[35m294\u001b[0m, in \u001b[35m__init__\u001b[0m\n",
      "    \u001b[31mself.readBTreeV1\u001b[0m\u001b[1;31m(buffer, datasetLevel)\u001b[0m\n",
      "    \u001b[31m~~~~~~~~~~~~~~~~\u001b[0m\u001b[1;31m^^^^^^^^^^^^^^^^^^^^^^\u001b[0m\n",
      "  File \u001b[35m\"/Users/rwegener/repos/scratch/h5coro-1.0/h5coro/h5dataset.py\"\u001b[0m, line \u001b[35m1999\u001b[0m, in \u001b[35mreadBTreeV1\u001b[0m\n",
      "    child_addr  = self.readField(self.resourceObject.offsetSize)\n",
      "  File \u001b[35m\"/Users/rwegener/repos/scratch/h5coro-1.0/h5coro/h5dataset.py\"\u001b[0m, line \u001b[35m327\u001b[0m, in \u001b[35mreadField\u001b[0m\n",
      "    raw = self.resourceObject.ioRequest(self.pos, size)\n",
      "  File \u001b[35m\"/Users/rwegener/repos/scratch/h5coro-1.0/h5coro/h5coro.py\"\u001b[0m, line \u001b[35m251\u001b[0m, in \u001b[35mioRequest\u001b[0m\n",
      "    self.cache[cache_line] = memoryview(\u001b[31mself.driver.read\u001b[0m\u001b[1;31m(cache_line, self.cacheLineSize)\u001b[0m)\n",
      "                                        \u001b[31m~~~~~~~~~~~~~~~~\u001b[0m\u001b[1;31m^^^^^^^^^^^^^^^^^^^^^^^^^^^^^^^^\u001b[0m\n",
      "  File \u001b[35m\"/Users/rwegener/repos/scratch/h5coro-1.0/h5coro/webdriver.py\"\u001b[0m, line \u001b[35m87\u001b[0m, in \u001b[35mread\u001b[0m\n",
      "    stream = \u001b[1;31mself.session.get\u001b[0m(self.resource, headers=headers, allow_redirects=True,\n",
      "             \u001b[1;31m^^^^^^^^^^^^^^^^\u001b[0m\n",
      "\u001b[1;35mAttributeError\u001b[0m: \u001b[35m'NoneType' object has no attribute 'get'\u001b[0m\n"
     ]
    }
   ],
   "source": [
    "%%timeit -r 5\n",
    "\n",
    "ds = xr.open_dataset(https, engine='h5coro', group='/gt2l/land_ice_segments')\n",
    "ds.h_li.load()\n",
    "ds.latitude.load()\n",
    "ds.longitude.load()\n",
    "ds.delta_time.load()"
   ]
  },
  {
   "cell_type": "code",
   "execution_count": null,
   "id": "6c9a0a3f-e604-4cda-9e42-ff8f8ebbb63d",
   "metadata": {},
   "outputs": [],
   "source": []
  },
  {
   "cell_type": "code",
   "execution_count": null,
   "id": "3b0ddefd-0723-4a9f-bbbe-be9057073a13",
   "metadata": {},
   "outputs": [],
   "source": []
  },
  {
   "cell_type": "code",
   "execution_count": null,
   "id": "86c0c916-1144-4914-90ec-04a6ef3e9bc9",
   "metadata": {},
   "outputs": [],
   "source": []
  },
  {
   "cell_type": "code",
   "execution_count": null,
   "id": "c217eea1-8601-4230-8eb1-4f46fc450038",
   "metadata": {},
   "outputs": [],
   "source": []
  }
 ],
 "metadata": {
  "kernelspec": {
   "display_name": "Python [conda env:sarp]",
   "language": "python",
   "name": "conda-env-sarp-py"
  },
  "language_info": {
   "codemirror_mode": {
    "name": "ipython",
    "version": 3
   },
   "file_extension": ".py",
   "mimetype": "text/x-python",
   "name": "python",
   "nbconvert_exporter": "python",
   "pygments_lexer": "ipython3",
   "version": "3.13.1"
  }
 },
 "nbformat": 4,
 "nbformat_minor": 5
}
