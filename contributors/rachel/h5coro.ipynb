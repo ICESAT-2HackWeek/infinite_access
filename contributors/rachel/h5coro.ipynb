{
 "cells": [
  {
   "cell_type": "markdown",
   "id": "0",
   "metadata": {},
   "source": [
    "# Examples"
   ]
  },
  {
   "cell_type": "markdown",
   "id": "1",
   "metadata": {
    "tags": []
   },
   "source": [
    "## setup\n",
    "\n",
    "Must install h5coro to have it accessible as an engine.\n",
    "\n",
    "Must use pip **not** conda. conda h5coro is v0.0.6, which does not have the funcionality to be located by xarray as a backend. pip h5coro is v0.0.8, which does."
   ]
  },
  {
   "cell_type": "code",
   "execution_count": 1,
   "id": "641cc544-c028-4feb-9747-0528fc0b9fb3",
   "metadata": {
    "scrolled": true
   },
   "outputs": [
    {
     "name": "stdout",
     "output_type": "stream",
     "text": [
      "Collecting h5coro==0.0.8\n",
      "  Using cached h5coro-0.0.8-py3-none-any.whl.metadata (815 bytes)\n",
      "Using cached h5coro-0.0.8-py3-none-any.whl (40 kB)\n",
      "Installing collected packages: h5coro\n",
      "  Attempting uninstall: h5coro\n",
      "    Found existing installation: h5coro 0.0.8\n",
      "    Uninstalling h5coro-0.0.8:\n",
      "      Successfully uninstalled h5coro-0.0.8\n",
      "Successfully installed h5coro-0.0.8\n"
     ]
    }
   ],
   "source": [
    "!pip install --upgrade --force-reinstall --no-deps h5coro==0.0.8"
   ]
  },
  {
   "cell_type": "code",
   "execution_count": 2,
   "id": "3",
   "metadata": {
    "tags": []
   },
   "outputs": [
    {
     "name": "stdout",
     "output_type": "stream",
     "text": [
      "0.0.8\n"
     ]
    }
   ],
   "source": [
    "import xarray as xr\n",
    "import earthaccess\n",
    "import os\n",
    "import h5coro\n",
    "print(h5coro.__version__)"
   ]
  },
  {
   "cell_type": "code",
   "execution_count": 3,
   "id": "5611747f-4141-44c6-9031-26cbf83b5ded",
   "metadata": {},
   "outputs": [
    {
     "data": {
      "text/plain": [
       "dict_keys(['netcdf4', 'h5netcdf', 'scipy', 'h5coro', 'kerchunk', 'rasterio', 'store', 'zarr'])"
      ]
     },
     "execution_count": 3,
     "metadata": {},
     "output_type": "execute_result"
    }
   ],
   "source": [
    "# Confirm h5coro backend loaded properly\n",
    "# should see 'h5coro' in the list\n",
    "xr.backends.list_engines().keys()"
   ]
  },
  {
   "cell_type": "markdown",
   "id": "c0d56482-1eb7-443f-ad41-01f1669451a5",
   "metadata": {},
   "source": [
    "## Authenticating"
   ]
  },
  {
   "cell_type": "code",
   "execution_count": 4,
   "id": "46b0c4cd-f585-42b1-bccf-c3e8509641e4",
   "metadata": {},
   "outputs": [],
   "source": [
    "s3url_atl06 = 'nsidc-cumulus-prod-protected/ATLAS/ATL06/006/2019/12/02/ATL06_20191202203649_10220511_006_01.h5'\n",
    "auth = earthaccess.login()\n",
    "creds = auth.get_s3_credentials(daac='NSIDC')"
   ]
  },
  {
   "cell_type": "markdown",
   "id": "20011e72-bae8-4150-a873-6e400a109298",
   "metadata": {},
   "source": [
    "## Data Access"
   ]
  },
  {
   "cell_type": "code",
   "execution_count": 5,
   "id": "c3bebe3c-5712-484e-8267-d093c6d69f7f",
   "metadata": {},
   "outputs": [
    {
     "name": "stdout",
     "output_type": "stream",
     "text": [
      "1.38 s ± 220 ms per loop (mean ± std. dev. of 5 runs, 1 loop each)\n"
     ]
    }
   ],
   "source": [
    "%%timeit -r 5\n",
    "\n",
    "ds = xr.open_dataset(s3url_atl06, engine='h5coro', group='/gt2l/land_ice_segments', credentials=creds)\n",
    "ds.h_li.load()\n",
    "ds.latitude.load()\n",
    "ds.longitude.load()\n",
    "ds.delta_time.load()"
   ]
  },
  {
   "cell_type": "code",
   "execution_count": null,
   "id": "16a7040e-8589-4382-854c-9bc5701a95c8",
   "metadata": {},
   "outputs": [],
   "source": []
  },
  {
   "cell_type": "code",
   "execution_count": null,
   "id": "aa5b5946-362b-42a0-bdde-fc9b36c635c4",
   "metadata": {},
   "outputs": [],
   "source": []
  },
  {
   "cell_type": "code",
   "execution_count": null,
   "id": "3ee92c49-4895-4e6a-b4cc-546abeb24c53",
   "metadata": {},
   "outputs": [],
   "source": []
  }
 ],
 "metadata": {
  "kernelspec": {
   "display_name": "Python 3 (ipykernel)",
   "language": "python",
   "name": "python3"
  },
  "language_info": {
   "codemirror_mode": {
    "name": "ipython",
    "version": 3
   },
   "file_extension": ".py",
   "mimetype": "text/x-python",
   "name": "python",
   "nbconvert_exporter": "python",
   "pygments_lexer": "ipython3",
   "version": "3.11.11"
  }
 },
 "nbformat": 4,
 "nbformat_minor": 5
}
